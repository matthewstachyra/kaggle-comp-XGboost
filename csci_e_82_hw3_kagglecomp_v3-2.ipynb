{
 "cells": [
  {
   "cell_type": "markdown",
   "metadata": {
    "id": "kHvSlNuKTNqC"
   },
   "source": [
    "# I. Preliminaries"
   ]
  },
  {
   "cell_type": "code",
   "execution_count": 50,
   "metadata": {
    "execution": {
     "iopub.execute_input": "2021-10-15T18:35:03.887954Z",
     "iopub.status.busy": "2021-10-15T18:35:03.887631Z",
     "iopub.status.idle": "2021-10-15T18:35:04.838187Z",
     "shell.execute_reply": "2021-10-15T18:35:04.837149Z",
     "shell.execute_reply.started": "2021-10-15T18:35:03.887923Z"
    },
    "id": "FLs_qRjmTNqG"
   },
   "outputs": [],
   "source": [
    "import warnings\n",
    "warnings.filterwarnings('ignore')\n",
    "\n",
    "import pandas as pd\n",
    "import numpy as np\n",
    "import math\n",
    "from sklearn.ensemble import (RandomForestClassifier, AdaBoostClassifier, \n",
    "                              GradientBoostingClassifier, ExtraTreesClassifier)\n",
    "from sklearn.linear_model import LogisticRegression\n",
    "from sklearn.neighbors import KNeighborsClassifier\n",
    "from sklearn.neural_network import MLPClassifier\n",
    "from sklearn.naive_bayes import GaussianNB\n",
    "from sklearn.linear_model import LogisticRegression\n",
    "from sklearn.naive_bayes import MultinomialNB\n",
    "from sklearn.tree import DecisionTreeClassifier\n",
    "from sklearn.ensemble import BaggingClassifier\n",
    "from sklearn.discriminant_analysis import LinearDiscriminantAnalysis as LDA\n",
    "from sklearn.svm import SVC\n",
    "from sklearn.model_selection import KFold\n",
    "from sklearn.model_selection import GridSearchCV\n",
    "from sklearn.model_selection import RandomizedSearchCV\n",
    "from sklearn.metrics import roc_curve,confusion_matrix,auc\n",
    "from sklearn.preprocessing import StandardScaler\n",
    "from sklearn.preprocessing import MinMaxScaler\n",
    "from sklearn.cluster import KMeans\n",
    "from sklearn.decomposition import PCA\n",
    "from sklearn.manifold import TSNE\n",
    "from sklearn.model_selection import train_test_split\n",
    "from sklearn.utils.class_weight import compute_sample_weight\n",
    "from sklearn.model_selection import StratifiedKFold\n",
    "from sklearn.model_selection import cross_val_score\n",
    "from sklearn import metrics\n",
    "from sklearn.metrics import accuracy_score, f1_score, precision_score, recall_score, roc_curve, confusion_matrix, auc, classification_report\n",
    "from sklearn.utils import class_weight\n",
    "from xgboost import XGBClassifier as xgb\n",
    "from xgboost import plot_importance\n",
    "from matplotlib import pyplot\n",
    "import seaborn as sns\n",
    "import time\n",
    "\n",
    "import matplotlib.pyplot as plt\n",
    "%matplotlib inline"
   ]
  },
  {
   "cell_type": "code",
   "execution_count": 9,
   "metadata": {
    "_cell_guid": "b1076dfc-b9ad-4769-8c92-a6c4dae69d19",
    "_uuid": "8f2839f25d086af736a60e9eeb907d3b93b6e0e5",
    "execution": {
     "iopub.execute_input": "2021-10-15T18:35:04.841028Z",
     "iopub.status.busy": "2021-10-15T18:35:04.840655Z",
     "iopub.status.idle": "2021-10-15T18:35:04.850852Z",
     "shell.execute_reply": "2021-10-15T18:35:04.849460Z",
     "shell.execute_reply.started": "2021-10-15T18:35:04.840988Z"
    },
    "id": "TokDv0itTNqM"
   },
   "outputs": [],
   "source": [
    "# # This Python 3 environment comes with many helpful analytics libraries installed\n",
    "# # It is defined by the kaggle/python Docker image: https://github.com/kaggle/docker-python\n",
    "# # For example, here's several helpful packages to load\n",
    "\n",
    "# import numpy as np # linear algebra\n",
    "# import pandas as pd # data processing, CSV file I/O (e.g. pd.read_csv)\n",
    "\n",
    "# # Input data files are available in the read-only \"../input/\" directory\n",
    "# # For example, running this (by clicking run or pressing Shift+Enter) will list all files under the input directory\n",
    "\n",
    "# import os\n",
    "# for dirname, _, filenames in os.walk('/kaggle/input'):\n",
    "#     for filename in filenames:\n",
    "#         print(os.path.join(dirname, filename))\n",
    "\n",
    "# # You can write up to 20GB to the current directory (/kaggle/working/) that gets preserved as output when you create a version using \"Save & Run All\" \n",
    "# # You can also write temporary files to /kaggle/temp/, but they won't be saved outside of the current session"
   ]
  },
  {
   "cell_type": "code",
   "execution_count": 10,
   "metadata": {
    "colab": {
     "base_uri": "https://localhost:8080/"
    },
    "id": "UkJWRJVrTcZU",
    "outputId": "6cf9b035-8afa-419f-fc19-8d9e9c333510"
   },
   "outputs": [
    {
     "name": "stdout",
     "output_type": "stream",
     "text": [
      "Drive already mounted at /content/drive; to attempt to forcibly remount, call drive.mount(\"/content/drive\", force_remount=True).\n"
     ]
    }
   ],
   "source": [
    "from google.colab import drive\n",
    "drive.mount('/content/drive')"
   ]
  },
  {
   "cell_type": "code",
   "execution_count": 11,
   "metadata": {
    "execution": {
     "iopub.execute_input": "2021-10-15T18:35:04.853975Z",
     "iopub.status.busy": "2021-10-15T18:35:04.853635Z",
     "iopub.status.idle": "2021-10-15T18:35:06.638180Z",
     "shell.execute_reply": "2021-10-15T18:35:06.637109Z",
     "shell.execute_reply.started": "2021-10-15T18:35:04.853935Z"
    },
    "id": "wljfep67TNqO"
   },
   "outputs": [],
   "source": [
    "#download dataset from kaggle and adjust path below\n",
    "train_data = pd.read_csv('/content/drive/MyDrive/hw3/train_data.csv')\n",
    "test_data = pd.read_csv('/content/drive/MyDrive/hw3/test_data.csv')"
   ]
  },
  {
   "cell_type": "markdown",
   "metadata": {
    "id": "YMScuU92TNqP"
   },
   "source": [
    "### Data Preparation"
   ]
  },
  {
   "cell_type": "code",
   "execution_count": 12,
   "metadata": {
    "execution": {
     "iopub.execute_input": "2021-10-15T18:35:06.640776Z",
     "iopub.status.busy": "2021-10-15T18:35:06.640352Z",
     "iopub.status.idle": "2021-10-15T18:35:07.066412Z",
     "shell.execute_reply": "2021-10-15T18:35:07.065361Z",
     "shell.execute_reply.started": "2021-10-15T18:35:06.640741Z"
    },
    "id": "Z9Abtw1rTNqQ"
   },
   "outputs": [],
   "source": [
    "'''\n",
    "train_data, test_data -> train, test\n",
    "- drop output column\n",
    "- convert subject, phase, and state to numerical values (one-hot encoding)\n",
    "- drop cols with only one value\n",
    "'''\n",
    "\n",
    "train = train_data.drop(columns=['output'],axis=1) # drop output col\n",
    "subject_cols = pd.get_dummies(train['subject'], prefix='subject') # one hot encode cols with categorical values\n",
    "phase_cols = pd.get_dummies(train['phase'], prefix='phase')\n",
    "state_cols = pd.get_dummies(train['state'], prefix='state')\n",
    "\n",
    "train = pd.concat([train,subject_cols, phase_cols, state_cols],axis=1) # add one hot encoding\n",
    "train.drop(['subject', 'phase', 'state'],axis=1, inplace=True) # remove original cols now that we have one hot encoding\n",
    "train['subject_J'] = np.zeros((4584,1))\n",
    "train['subject_E'] = np.zeros((4584,1))\n",
    "\n",
    "subject_cols_test = pd.get_dummies(test_data['subject'], prefix='subject') # one hot encode cols with categorical values\n",
    "phase_cols_test = pd.get_dummies(test_data['phase'], prefix='phase')\n",
    "state_cols_test = pd.get_dummies(test_data['state'], prefix='state')\n",
    "\n",
    "test = pd.concat([test_data,subject_cols_test, phase_cols_test, state_cols_test],axis=1) # do the same for test\n",
    "test.drop(['subject', 'phase', 'state'],axis=1, inplace=True) \n",
    "\n",
    "one_value_col=[]\n",
    "for col in train.columns:\n",
    "    if train[col].nunique() == 1:\n",
    "        #print(train_data[col].nunique())\n",
    "        one_value_col.append(col)\n",
    "train = train.drop(columns=one_value_col, axis=1)\n",
    "test = test.drop(columns=one_value_col, axis=1)\n",
    "\n",
    "# drop column which are not important at all\n",
    "# drop_feat = ['y19','x32','x29','x27','x23','x19','x16','x13','y167','z27','x133','z25','z23','y171','x80','y175','z19','z16','x158','z183','z180','x196','y13','y23','y25','z106','y27','z80','x209','x184','x172','x183','x180','z162','x174','z171','y80','z174','y16','z13']\n",
    "# train = train.drop(columns=drop_feat,axis=1)"
   ]
  },
  {
   "cell_type": "markdown",
   "metadata": {
    "id": "DGBnXoV4TNqU"
   },
   "source": [
    "### Split train data set"
   ]
  },
  {
   "cell_type": "code",
   "execution_count": 13,
   "metadata": {
    "execution": {
     "iopub.execute_input": "2021-10-15T18:35:07.068596Z",
     "iopub.status.busy": "2021-10-15T18:35:07.068215Z",
     "iopub.status.idle": "2021-10-15T18:35:09.136227Z",
     "shell.execute_reply": "2021-10-15T18:35:09.135199Z",
     "shell.execute_reply.started": "2021-10-15T18:35:07.068557Z"
    },
    "id": "JRo1-8dvTNqV"
   },
   "outputs": [],
   "source": [
    "X = train\n",
    "X_test = test\n",
    "y = train_data['output']\n",
    "\n",
    "# get subset of cols that are not the one hot encodings\n",
    "numeric_feat = list(set(train.columns) - set(train.iloc[:, 558:].columns))\n",
    "\n",
    "# min max X and X_test\n",
    "scale = MinMaxScaler()\n",
    "X[numeric_feat] = scale.fit_transform(X[numeric_feat])\n",
    "X_test[numeric_feat] = scale.fit_transform(X_test[numeric_feat])\n",
    "\n",
    "# split \n",
    "X_train,X_val,y_train,y_val = train_test_split(X,y,test_size=0.25,stratify=y)"
   ]
  },
  {
   "cell_type": "markdown",
   "metadata": {
    "id": "CbxZikjDTNqW"
   },
   "source": [
    "### Understand class distribution"
   ]
  },
  {
   "cell_type": "code",
   "execution_count": 14,
   "metadata": {
    "execution": {
     "iopub.execute_input": "2021-10-15T18:35:09.138854Z",
     "iopub.status.busy": "2021-10-15T18:35:09.138467Z",
     "iopub.status.idle": "2021-10-15T18:35:09.151124Z",
     "shell.execute_reply": "2021-10-15T18:35:09.150089Z",
     "shell.execute_reply.started": "2021-10-15T18:35:09.138796Z"
    },
    "id": "9f-Dy4h9TNqX"
   },
   "outputs": [],
   "source": [
    "classes_weights = class_weight.compute_class_weight('balanced',\n",
    "                                             np.unique(y_train),\n",
    "                                             y_train)\n",
    "weight = {0: 0.80 , 1: 0.20}\n",
    "sample_weight=compute_sample_weight(\"balanced\", y_train)"
   ]
  },
  {
   "cell_type": "code",
   "execution_count": 15,
   "metadata": {
    "colab": {
     "base_uri": "https://localhost:8080/"
    },
    "execution": {
     "iopub.execute_input": "2021-10-15T18:35:09.153276Z",
     "iopub.status.busy": "2021-10-15T18:35:09.152935Z",
     "iopub.status.idle": "2021-10-15T18:35:09.166489Z",
     "shell.execute_reply": "2021-10-15T18:35:09.165230Z",
     "shell.execute_reply.started": "2021-10-15T18:35:09.153234Z"
    },
    "id": "H4xFCjj8TNqY",
    "outputId": "fd864815-5323-40be-a9cf-dae9e2f5f1be"
   },
   "outputs": [
    {
     "data": {
      "text/plain": [
       "0.18347676419965578"
      ]
     },
     "execution_count": 15,
     "metadata": {},
     "output_type": "execute_result"
    }
   ],
   "source": [
    "y_train.value_counts()\n",
    "scale_pos_weight=533/2905\n",
    "scale_pos_weight"
   ]
  },
  {
   "cell_type": "markdown",
   "metadata": {
    "id": "zeRumgBPTNqZ"
   },
   "source": [
    "# II. Approach"
   ]
  },
  {
   "cell_type": "markdown",
   "metadata": {
    "id": "riLwyEP9TNqa"
   },
   "source": [
    "(1) Optimize XGBoost model\n",
    "\n",
    "(2) Test and submit on optimized XGBoost model\n",
    "\n",
    "(3) Create stacked model\n",
    "\n",
    "(4) Test and submit stacked model\n",
    "\n"
   ]
  },
  {
   "cell_type": "markdown",
   "metadata": {
    "id": "EeWxBFtoTNqb"
   },
   "source": [
    "# III. XGBoost round 1\n",
    "\n",
    "1. Plot baseline XGBoost model\n",
    "2. Assess baseline performance and understand feature importance\n",
    "3. Test core hyperparamters (# of trees and depth of trees) using accuracy and f1 score\n",
    "4. Optimize model\n",
    "5. Retest feature importance for optimized model\n",
    "6. Test optimal threshold (to help with imbalaned data, as is here)"
   ]
  },
  {
   "cell_type": "markdown",
   "metadata": {
    "id": "Effywk8YTNqd"
   },
   "source": [
    "## XGBoost base model"
   ]
  },
  {
   "cell_type": "code",
   "execution_count": 16,
   "metadata": {
    "colab": {
     "base_uri": "https://localhost:8080/"
    },
    "execution": {
     "iopub.execute_input": "2021-10-15T18:35:14.118301Z",
     "iopub.status.busy": "2021-10-15T18:35:14.118010Z",
     "iopub.status.idle": "2021-10-15T18:35:49.661493Z",
     "shell.execute_reply": "2021-10-15T18:35:49.660391Z",
     "shell.execute_reply.started": "2021-10-15T18:35:14.118272Z"
    },
    "id": "MuOOZUngTNqf",
    "outputId": "f2bff8c6-960f-4e3f-fb48-ff2280951ce2"
   },
   "outputs": [
    {
     "name": "stdout",
     "output_type": "stream",
     "text": [
      "Train accuracy 0.9075043630017452\n",
      "Validation accuracy 0.8525305410122164\n"
     ]
    }
   ],
   "source": [
    "model = xgb(random_state=42)\n",
    "preds = model.fit(X_train, y_train).predict(X_val)\n",
    "print('Train accuracy %s' % model.score(X_train, y_train)) \n",
    "print('Validation accuracy %s' % accuracy_score(preds, y_val)) "
   ]
  },
  {
   "cell_type": "code",
   "execution_count": 17,
   "metadata": {
    "colab": {
     "base_uri": "https://localhost:8080/"
    },
    "id": "ap7r4Zx7zFl3",
    "outputId": "8e2cbf17-183f-4916-e40d-0e9798277a1e"
   },
   "outputs": [
    {
     "name": "stdout",
     "output_type": "stream",
     "text": [
      "Stratified CV accuracy 0.8614751444095756\n"
     ]
    }
   ],
   "source": [
    "# using stratified CV because classes are imbalanced\n",
    "model = xgb(random_state=42)\n",
    "kfold = StratifiedKFold(n_splits=5, random_state=42)\n",
    "results = cross_val_score(model, X, y, cv=kfold)\n",
    "print('Stratified CV accuracy %s' % results.mean())"
   ]
  },
  {
   "cell_type": "markdown",
   "metadata": {
    "id": "6yAoh84ixzWW"
   },
   "source": [
    "**Performance of base model on kaggle**: 0.65321"
   ]
  },
  {
   "cell_type": "markdown",
   "metadata": {
    "id": "qIFJrAu6xupJ"
   },
   "source": [
    "### Understand feature importance for base model"
   ]
  },
  {
   "cell_type": "code",
   "execution_count": null,
   "metadata": {
    "colab": {
     "base_uri": "https://localhost:8080/",
     "height": 1000
    },
    "execution": {
     "iopub.execute_input": "2021-10-15T18:35:49.664456Z",
     "iopub.status.busy": "2021-10-15T18:35:49.663561Z",
     "iopub.status.idle": "2021-10-15T18:35:58.809234Z",
     "shell.execute_reply": "2021-10-15T18:35:58.808160Z",
     "shell.execute_reply.started": "2021-10-15T18:35:49.664410Z"
    },
    "id": "lbY1MkwZTNqg",
    "outputId": "b70a70a6-dd71-423a-e7c0-839767e14ad4"
   },
   "outputs": [
    {
     "data": {
      "image/png": "[encoded data removed]",
      "text/plain": [
       "<Figure size 1728x720 with 1 Axes>"
      ]
     },
     "metadata": {
      "needs_background": "light"
     },
     "output_type": "display_data"
    },
    {
     "data": {
      "image/png": "[encoded data removed]",
      "text/plain": [
       "<Figure size 1728x720 with 1 Axes>"
      ]
     },
     "metadata": {
      "needs_background": "light"
     },
     "output_type": "display_data"
    }
   ],
   "source": [
    "model = xgb(random_state=42)\n",
    "preds = model.fit(X_train, y_train).predict(X_val)\n",
    "fig, ax = plt.subplots(figsize=(24, 10))\n",
    "plot_importance(model, ax=ax)\n",
    "\n",
    "plt.figure(figsize=(24, 10))\n",
    "plt.plot(range(len(model.feature_importances_)), model.feature_importances_)\n",
    "plt.show()"
   ]
  },
  {
   "cell_type": "code",
   "execution_count": null,
   "metadata": {
    "colab": {
     "base_uri": "https://localhost:8080/",
     "height": 809
    },
    "execution": {
     "iopub.execute_input": "2021-10-15T18:35:58.811438Z",
     "iopub.status.busy": "2021-10-15T18:35:58.810898Z",
     "iopub.status.idle": "2021-10-15T18:35:58.879676Z",
     "shell.execute_reply": "2021-10-15T18:35:58.878517Z",
     "shell.execute_reply.started": "2021-10-15T18:35:58.811393Z"
    },
    "id": "e1Kz5Aw8TNqh",
    "outputId": "ea042a53-3853-4a1e-f6cf-af4953847359"
   },
   "outputs": [
    {
     "data": {
      "text/html": [
       "<div>\n",
       "<style scoped>\n",
       "    .dataframe tbody tr th:only-of-type {\n",
       "        vertical-align: middle;\n",
       "    }\n",
       "\n",
       "    .dataframe tbody tr th {\n",
       "        vertical-align: top;\n",
       "    }\n",
       "\n",
       "    .dataframe thead th {\n",
       "        text-align: right;\n",
       "    }\n",
       "</style>\n",
       "<table border=\"1\" class=\"dataframe\">\n",
       "  <thead>\n",
       "    <tr style=\"text-align: right;\">\n",
       "      <th></th>\n",
       "      <th>0</th>\n",
       "    </tr>\n",
       "  </thead>\n",
       "  <tbody>\n",
       "    <tr>\n",
       "      <th>subject_G</th>\n",
       "      <td>0.025284</td>\n",
       "    </tr>\n",
       "    <tr>\n",
       "      <th>phase_2</th>\n",
       "      <td>0.014602</td>\n",
       "    </tr>\n",
       "    <tr>\n",
       "      <th>z164</th>\n",
       "      <td>0.012707</td>\n",
       "    </tr>\n",
       "    <tr>\n",
       "      <th>z35</th>\n",
       "      <td>0.012624</td>\n",
       "    </tr>\n",
       "    <tr>\n",
       "      <th>z5</th>\n",
       "      <td>0.012545</td>\n",
       "    </tr>\n",
       "    <tr>\n",
       "      <th>z90</th>\n",
       "      <td>0.011756</td>\n",
       "    </tr>\n",
       "    <tr>\n",
       "      <th>y15</th>\n",
       "      <td>0.011308</td>\n",
       "    </tr>\n",
       "    <tr>\n",
       "      <th>phase_1</th>\n",
       "      <td>0.011132</td>\n",
       "    </tr>\n",
       "    <tr>\n",
       "      <th>subject_M</th>\n",
       "      <td>0.010258</td>\n",
       "    </tr>\n",
       "    <tr>\n",
       "      <th>x55</th>\n",
       "      <td>0.008836</td>\n",
       "    </tr>\n",
       "    <tr>\n",
       "      <th>z111</th>\n",
       "      <td>0.008695</td>\n",
       "    </tr>\n",
       "    <tr>\n",
       "      <th>x61</th>\n",
       "      <td>0.007753</td>\n",
       "    </tr>\n",
       "    <tr>\n",
       "      <th>subject_I</th>\n",
       "      <td>0.007505</td>\n",
       "    </tr>\n",
       "    <tr>\n",
       "      <th>x54</th>\n",
       "      <td>0.007489</td>\n",
       "    </tr>\n",
       "    <tr>\n",
       "      <th>x198</th>\n",
       "      <td>0.007244</td>\n",
       "    </tr>\n",
       "    <tr>\n",
       "      <th>z205</th>\n",
       "      <td>0.007121</td>\n",
       "    </tr>\n",
       "    <tr>\n",
       "      <th>x49</th>\n",
       "      <td>0.007097</td>\n",
       "    </tr>\n",
       "    <tr>\n",
       "      <th>x162</th>\n",
       "      <td>0.007080</td>\n",
       "    </tr>\n",
       "    <tr>\n",
       "      <th>x35</th>\n",
       "      <td>0.007008</td>\n",
       "    </tr>\n",
       "    <tr>\n",
       "      <th>x9</th>\n",
       "      <td>0.006900</td>\n",
       "    </tr>\n",
       "    <tr>\n",
       "      <th>z202</th>\n",
       "      <td>0.006894</td>\n",
       "    </tr>\n",
       "    <tr>\n",
       "      <th>z204</th>\n",
       "      <td>0.006855</td>\n",
       "    </tr>\n",
       "    <tr>\n",
       "      <th>z38</th>\n",
       "      <td>0.006816</td>\n",
       "    </tr>\n",
       "    <tr>\n",
       "      <th>subject_K</th>\n",
       "      <td>0.006785</td>\n",
       "    </tr>\n",
       "    <tr>\n",
       "      <th>z50</th>\n",
       "      <td>0.006692</td>\n",
       "    </tr>\n",
       "  </tbody>\n",
       "</table>\n",
       "</div>"
      ],
      "text/plain": [
       "                  0\n",
       "subject_G  0.025284\n",
       "phase_2    0.014602\n",
       "z164       0.012707\n",
       "z35        0.012624\n",
       "z5         0.012545\n",
       "z90        0.011756\n",
       "y15        0.011308\n",
       "phase_1    0.011132\n",
       "subject_M  0.010258\n",
       "x55        0.008836\n",
       "z111       0.008695\n",
       "x61        0.007753\n",
       "subject_I  0.007505\n",
       "x54        0.007489\n",
       "x198       0.007244\n",
       "z205       0.007121\n",
       "x49        0.007097\n",
       "x162       0.007080\n",
       "x35        0.007008\n",
       "x9         0.006900\n",
       "z202       0.006894\n",
       "z204       0.006855\n",
       "z38        0.006816\n",
       "subject_K  0.006785\n",
       "z50        0.006692"
      ]
     },
     "execution_count": 12,
     "metadata": {},
     "output_type": "execute_result"
    }
   ],
   "source": [
    "'''\n",
    "Above is difficult to interpret so we observe the matrix\n",
    "\n",
    "We look at top 25 features to observe any pattern\n",
    "'''\n",
    "base_featimport = model.feature_importances_.reshape((1, 578)) \n",
    "base_featimport = pd.DataFrame(base_featimport, columns=X_train.columns).T\n",
    "base_featimport = base_featimport.sort_values(by=0, ascending=False)\n",
    "base_featimport[:25]"
   ]
  },
  {
   "cell_type": "code",
   "execution_count": null,
   "metadata": {
    "colab": {
     "base_uri": "https://localhost:8080/",
     "height": 540
    },
    "execution": {
     "iopub.execute_input": "2021-10-15T18:35:58.883132Z",
     "iopub.status.busy": "2021-10-15T18:35:58.882772Z",
     "iopub.status.idle": "2021-10-15T18:35:59.155961Z",
     "shell.execute_reply": "2021-10-15T18:35:59.155025Z",
     "shell.execute_reply.started": "2021-10-15T18:35:58.883074Z"
    },
    "id": "ln9_Z91FTNqi",
    "outputId": "d2017ce5-2d2c-4da8-ccbb-7e0b55a4509f"
   },
   "outputs": [
    {
     "data": {
      "image/png": "[encoded data removed]",
      "text/plain": [
       "<Figure size 1728x720 with 1 Axes>"
      ]
     },
     "metadata": {
      "needs_background": "light"
     },
     "output_type": "display_data"
    }
   ],
   "source": [
    "'''\n",
    "Replot top 25 features\n",
    "\n",
    "we observe there are 5 or so features that contribute most significantly \n",
    "'''\n",
    "plt.figure(figsize=(24, 10))\n",
    "plt.plot(range(len(base_featimport[:25])), base_featimport[:25].to_numpy())\n",
    "plt.show()"
   ]
  },
  {
   "cell_type": "markdown",
   "metadata": {
    "id": "1ITxx23BzrHP"
   },
   "source": [
    "## Tuning XGBoost model\n",
    "\n",
    "See notes as comments at the top of code blocks."
   ]
  },
  {
   "cell_type": "code",
   "execution_count": null,
   "metadata": {
    "colab": {
     "base_uri": "https://localhost:8080/"
    },
    "execution": {
     "iopub.execute_input": "2021-10-15T14:47:59.66261Z",
     "iopub.status.busy": "2021-10-15T14:47:59.662001Z",
     "iopub.status.idle": "2021-10-15T14:56:16.760435Z",
     "shell.execute_reply": "2021-10-15T14:56:16.759632Z",
     "shell.execute_reply.started": "2021-10-15T14:47:59.662563Z"
    },
    "id": "cmP20diHTNre",
    "outputId": "edbc9f72-99b8-4b43-a427-ddf09da90cac"
   },
   "outputs": [
    {
     "name": "stdout",
     "output_type": "stream",
     "text": [
      "Training execution time (mins) 1.8895883758862813\n",
      "Best param of XGB  {'learning_rate': 0.1, 'max_depth': 6, 'n_estimators': 75, 'objective': 'reg:logistic', 'scale_pos_weight': 0.33}\n",
      "Best score 0.860674810936591\n"
     ]
    }
   ],
   "source": [
    "'''\n",
    "First run to tune model\n",
    "\n",
    "Starting with:\n",
    "- learning rate = 0.1\n",
    "- n_estimators\n",
    "- max_depth\n",
    "- scale_pos_weight\n",
    "'''\n",
    "def xgb_param_selection(X, y):\n",
    "    n_estimators = [25, 50, 75] \n",
    "    max_depth=[6, 8] \n",
    "    scale_pos_weight = [0.18, 0.33] \n",
    "    learning_rate = [0.1]\n",
    "    objective = ['reg:logistic']\n",
    "    param_grid = {'n_estimators': n_estimators, \n",
    "                  'max_depth' : max_depth,\n",
    "                  'scale_pos_weight':scale_pos_weight, \n",
    "                  'learning_rate': learning_rate,\n",
    "                  'objective':objective}\n",
    "    \n",
    "    boost = xgb(use_label_encoder=False)\n",
    "    grid_search = GridSearchCV(boost, param_grid, cv=3, n_jobs=-1,verbose=0)\n",
    "    grid_search.fit(X, y)\n",
    "    grid_search.best_params_\n",
    "    return grid_search,grid_search.best_params_\n",
    "\n",
    "start_time = time.time()\n",
    "xgb_model,xgb_best_prama = xgb_param_selection(X_train,y_train)\n",
    "execution_time = (time.time() - start_time)/60.0\n",
    "print(\"Training execution time (mins)\",execution_time)\n",
    "print('Best param of XGB ',xgb_best_prama)\n",
    "print('Best score', xgb_model.best_score_)"
   ]
  },
  {
   "cell_type": "code",
   "execution_count": null,
   "metadata": {
    "colab": {
     "base_uri": "https://localhost:8080/"
    },
    "execution": {
     "iopub.execute_input": "2021-10-15T14:56:16.762142Z",
     "iopub.status.busy": "2021-10-15T14:56:16.761836Z",
     "iopub.status.idle": "2021-10-15T15:15:14.408818Z",
     "shell.execute_reply": "2021-10-15T15:15:14.408116Z",
     "shell.execute_reply.started": "2021-10-15T14:56:16.762098Z"
    },
    "id": "eC7xuzzYTNrf",
    "outputId": "4018e80a-e322-4f62-8c93-59919ce525f2"
   },
   "outputs": [
    {
     "name": "stdout",
     "output_type": "stream",
     "text": [
      "Training execution time (mins) 19.656608355045318\n",
      "Best param of XGB {'learning_rate': 0.1, 'max_depth': 25, 'n_estimators': 130, 'objective': 'reg:logistic', 'scale_pos_weight': 0.33}\n",
      "Best score 0.8647469458987783\n"
     ]
    }
   ],
   "source": [
    "'''\n",
    "Second run to tune model\n",
    "\n",
    "- we learned that max_depth and scale_pos_weight tested may \n",
    "have been too low (because highest in range was chosen by gridsearch)\n",
    "- including wider range of n_estimators to test\n",
    "'''\n",
    "\n",
    "def xgb_param_selection(X, y):\n",
    "    n_estimators = [25, 50, 70, 90, 110, 130, 150] \n",
    "    max_depth=[8, 15, 25] \n",
    "    scale_pos_weight = [0.33, 0.37, 0.40] \n",
    "    learning_rate = [0.1]\n",
    "    objective = ['reg:logistic']\n",
    "    param_grid = {'n_estimators': n_estimators, \n",
    "                  'max_depth' : max_depth,\n",
    "                  'scale_pos_weight':scale_pos_weight, \n",
    "                  'learning_rate': learning_rate,\n",
    "                  'objective':objective}\n",
    "    \n",
    "    boost = xgb(use_label_encoder=False)\n",
    "    grid_search = GridSearchCV(boost, param_grid, cv=3, n_jobs=-1,verbose=0)\n",
    "    grid_search.fit(X, y)\n",
    "    grid_search.best_params_\n",
    "    return grid_search,grid_search.best_params_\n",
    "\n",
    "start_time = time.time()\n",
    "xgb_model,xgb_best_param = xgb_param_selection(X_train,y_train)\n",
    "execution_time = (time.time() - start_time)/60.0\n",
    "print(\"Training execution time (mins)\",execution_time)\n",
    "print('Best param of XGB',xgb_best_param)\n",
    "print('Best score', xgb_model.best_score_)"
   ]
  },
  {
   "cell_type": "code",
   "execution_count": null,
   "metadata": {
    "colab": {
     "base_uri": "https://localhost:8080/"
    },
    "id": "Gc4i1Nakw0sx",
    "outputId": "3a828824-dad4-448a-bba6-e73fe448abaf"
   },
   "outputs": [
    {
     "name": "stdout",
     "output_type": "stream",
     "text": [
      "Training execution time (mins) 8.573770586649577\n"
     ]
    }
   ],
   "source": [
    "'''\n",
    "After first two runs, to understand the effect of n_estimators, we create\n",
    "boxplots\n",
    "'''\n",
    "acc_scores = []\n",
    "f1_scores = []\n",
    "start_time = time.time()\n",
    "trees = [50, 70, 90, 110, 130, 150]\n",
    "for ne in trees:\n",
    "    model = xgb(eta=0.1, max_depth=8, n_estimators=ne, objective='reg:logistic') \n",
    "    acc_score_list = cross_val_score(model, X, y, cv=3,n_jobs=-1) #returns accuracy\n",
    "    f1_score_list = cross_val_score(model, X, y, cv=3, scoring='f1')\n",
    "    acc_scores.append(acc_score_list)\n",
    "    f1_scores.append(f1_score_list)\n",
    "execution_time = (time.time() - start_time)/60.0\n",
    "print(\"Training execution time (mins)\",execution_time)"
   ]
  },
  {
   "cell_type": "code",
   "execution_count": null,
   "metadata": {
    "colab": {
     "base_uri": "https://localhost:8080/",
     "height": 349
    },
    "id": "PApIzUJ4w8qJ",
    "outputId": "d5f1797e-9b74-42c4-d95e-1ababafb936c"
   },
   "outputs": [
    {
     "data": {
      "image/png": "[encoded data removed]",
      "text/plain": [
       "<Figure size 864x360 with 1 Axes>"
      ]
     },
     "metadata": {
      "needs_background": "light"
     },
     "output_type": "display_data"
    }
   ],
   "source": [
    "box_df = pd.DataFrame([[50, 70, 90, 110, 130, 150], acc_scores]).T\n",
    "box_df.columns = ['numoftrees','acc_score']\n",
    "box_df = pd.DataFrame(np.array(acc_scores))\n",
    "box_df['numoftrees'] = [50, 70, 90, 110, 130, 150]\n",
    "box_df = box_df.melt(id_vars='numoftrees')\n",
    "\n",
    "plt.figure(figsize=(12,5))\n",
    "sns.boxplot(x=\"numoftrees\", \n",
    "            y=\"value\", \n",
    "            data=box_df, \n",
    "            showmeans=True);\n",
    "plt.xlabel('Number of trees')\n",
    "plt.ylabel('Classification score')\n",
    "plt.title('Classification score as a function of the number of trees');"
   ]
  },
  {
   "cell_type": "code",
   "execution_count": null,
   "metadata": {
    "colab": {
     "base_uri": "https://localhost:8080/"
    },
    "id": "QARQGQLQ1AHW",
    "outputId": "c98fdd1e-f152-483e-b0f2-bb25950d26b9"
   },
   "outputs": [
    {
     "name": "stdout",
     "output_type": "stream",
     "text": [
      "Training execution time (mins) 6.14916703303655\n"
     ]
    }
   ],
   "source": [
    "'''\n",
    "We do the same for max depth (taking best n_estimators value)\n",
    "'''\n",
    "acc_scores = []\n",
    "f1_scores = []\n",
    "start_time = time.time()\n",
    "depths = [6, 8, 15, 25]\n",
    "for d in depths:\n",
    "    model = xgb(eta=0.1, max_depth=d, n_estimators=90) \n",
    "    acc_score_list = cross_val_score(model, X, y, cv=3,n_jobs=-1) #returns accuracy\n",
    "    f1_score_list = cross_val_score(model, X, y, cv=3, scoring='f1')\n",
    "    acc_scores.append(acc_score_list)\n",
    "    f1_scores.append(f1_score_list)\n",
    "execution_time = (time.time() - start_time)/60.0\n",
    "print(\"Training execution time (mins)\",execution_time)"
   ]
  },
  {
   "cell_type": "code",
   "execution_count": null,
   "metadata": {
    "colab": {
     "base_uri": "https://localhost:8080/",
     "height": 349
    },
    "id": "mMhPIcml10zh",
    "outputId": "58fe787e-d4d5-4542-a22d-9513fa3562d5"
   },
   "outputs": [
    {
     "data": {
      "image/png": "[encoded data removed]",
      "text/plain": [
       "<Figure size 864x360 with 1 Axes>"
      ]
     },
     "metadata": {
      "needs_background": "light"
     },
     "output_type": "display_data"
    }
   ],
   "source": [
    "box_df = pd.DataFrame([[6, 8, 15, 25], acc_scores]).T\n",
    "box_df.columns = ['maxdepth','acc_score']\n",
    "box_df = pd.DataFrame(np.array(acc_scores))\n",
    "box_df['maxdepth'] = [6, 8, 15, 25]\n",
    "box_df = box_df.melt(id_vars='maxdepth')\n",
    "\n",
    "plt.figure(figsize=(12,5))\n",
    "sns.boxplot(x=\"maxdepth\", \n",
    "            y=\"value\", \n",
    "            data=box_df, \n",
    "            showmeans=True);\n",
    "plt.xlabel('Max depth')\n",
    "plt.ylabel('Classification score')\n",
    "plt.title('Classification score as a function of max depth');"
   ]
  },
  {
   "cell_type": "markdown",
   "metadata": {
    "id": "S_GErPxg3wvM"
   },
   "source": [
    "**Discussion of boxplots for accuracy and f1 scores**\n",
    "\n",
    "- Gridsearch suggested that n_estimators of 150 and max depth of 25 were the optimal value.\n",
    "- The box plots do not necessarily show this clearly. \n",
    "- Looking at the plot for n_estimators: we observe that higher values tend to improve accuracy. The box for 130 seems to achieve higher accuracies than for 150, however, it also has a higher variance. Perhaps this is what we observe in the output for gridsearch.\n",
    "- Looking at the plot for max_depth: we see this has less effect (at a value of n_estimators of 150) than changing values of n_estimators did. A value of 8 may have the best potential for a higher clasification score, however, gridsearch returned a max depth of 25.  We see this value has a lowest variance for the tested values, second to 6. "
   ]
  },
  {
   "cell_type": "markdown",
   "metadata": {
    "id": "DAI7yKbT2Ixf"
   },
   "source": [
    "### Best params returned after 2 runs\n",
    "\n",
    "{'scale_pos_weight': 0.33, 'objective': 'reg:logistic', 'n_estimators': 150, 'max_depth': 25, 'learning_rate': 0.1}"
   ]
  },
  {
   "cell_type": "code",
   "execution_count": null,
   "metadata": {
    "colab": {
     "base_uri": "https://localhost:8080/"
    },
    "execution": {
     "iopub.execute_input": "2021-10-15T15:45:31.269346Z",
     "iopub.status.busy": "2021-10-15T15:45:31.269088Z",
     "iopub.status.idle": "2021-10-15T15:45:58.16748Z",
     "shell.execute_reply": "2021-10-15T15:45:58.166716Z",
     "shell.execute_reply.started": "2021-10-15T15:45:31.269318Z"
    },
    "id": "OXRmDTBRTNrg",
    "outputId": "6e6ef569-d3a1-426e-edee-f6a4921982d3"
   },
   "outputs": [
    {
     "name": "stdout",
     "output_type": "stream",
     "text": [
      "Train accuracy 1.0\n",
      "Validation accuracy 0.868237347294939\n"
     ]
    }
   ],
   "source": [
    "'''\n",
    "- these optimizations +2% improvement in validation accuracy (from ~0.861 to \n",
    "~0.876)\n",
    "- this was unexpected as we thought that increasing the estimators and depth \n",
    "would improve accuracy\n",
    "'''\n",
    "model = xgb(eta=0.1, max_depth=25, n_estimators=150, objective='reg:logistic', scale_pos_weight=0.33) \n",
    "preds = model.fit(X_train, y_train).predict(X_val)\n",
    "print('Train accuracy %s' % model.score(X_train, y_train)) \n",
    "print('Validation accuracy %s' % accuracy_score(preds, y_val)) # 0.876"
   ]
  },
  {
   "cell_type": "markdown",
   "metadata": {
    "id": "aCgv2ux-2R85"
   },
   "source": [
    "### Continuing with third run"
   ]
  },
  {
   "cell_type": "code",
   "execution_count": null,
   "metadata": {
    "colab": {
     "base_uri": "https://localhost:8080/"
    },
    "execution": {
     "iopub.execute_input": "2021-10-15T15:15:41.466094Z",
     "iopub.status.busy": "2021-10-15T15:15:41.465894Z",
     "iopub.status.idle": "2021-10-15T15:28:25.995749Z",
     "shell.execute_reply": "2021-10-15T15:28:25.994929Z",
     "shell.execute_reply.started": "2021-10-15T15:15:41.46607Z"
    },
    "id": "3HXQAVpATNrh",
    "outputId": "900cb6c7-c07b-4b6e-d9b2-8d727ecb32a3"
   },
   "outputs": [
    {
     "name": "stdout",
     "output_type": "stream",
     "text": [
      "Training execution time (mins) 20.35051600933075\n",
      "Best param of XGB {'colsample_bytree': 0.5, 'eval_metric': 'logloss', 'learning_rate': 0.1, 'max_depth': 25, 'min_child_weight': 0.5, 'n_estimators': 150, 'objective': 'reg:logistic', 'scale_pos_weight': 0.33, 'sub_sample': 0.5}\n",
      "Best score 0.8669284467713787\n"
     ]
    }
   ],
   "source": [
    "'''\n",
    "Third run to tune model\n",
    "\n",
    "- we kept the best params from the first two runs\n",
    "- additionally we tested:\n",
    "  - colsample_bytree [0.5, 0.55, 0.6, 0.65, 0.7, 0.8] \n",
    "  - min_child_weight [0.5, 1, 3, 5]\n",
    "  - subsample [0.5, 0.55, 0.6, 0.65, 0.7, 0.8] \n",
    "'''\n",
    "\n",
    "def xgb_param_selection(X, y):\n",
    "    n_estimators = [150] \n",
    "    max_depth=[25] \n",
    "    scale_pos_weight = [0.33] \n",
    "    learning_rate = [0.1]\n",
    "    objective = ['reg:logistic']\n",
    "    eval_metric = ['logloss']\n",
    "    sub_sample = [0.5, 0.6, 0.7, 0.8]\n",
    "    min_child_weight = [0.5, 1, 3, 5]\n",
    "    colsample_bytree = [0.5, 0.6, 0.7]\n",
    "    param_grid = {'n_estimators': n_estimators, \n",
    "                  'max_depth' : max_depth,\n",
    "                  'scale_pos_weight':scale_pos_weight, \n",
    "                  'learning_rate': learning_rate,\n",
    "                  'objective':objective, \n",
    "                  'eval_metric':eval_metric,\n",
    "                  'colsample_bytree':colsample_bytree,\n",
    "                  'sub_sample':sub_sample,\n",
    "                  'min_child_weight': min_child_weight}\n",
    "    \n",
    "    # build model\n",
    "    boost = xgb(use_label_encoder=False)\n",
    "    grid_search = GridSearchCV(boost, param_grid, cv=3, n_jobs=-1,verbose=0)\n",
    "    grid_search.fit(X, y)\n",
    "    grid_search.best_params_\n",
    "    return grid_search,grid_search.best_params_\n",
    "\n",
    "start_time = time.time()\n",
    "xgb_model,xgb_best_prama = xgb_param_selection(X, y)\n",
    "execution_time = (time.time() - start_time)/60.0\n",
    "print(\"Training execution time (mins)\",execution_time)\n",
    "print('Best param of XGB',xgb_best_prama)\n",
    "print('Best score', xgb_model.best_score_)"
   ]
  },
  {
   "cell_type": "markdown",
   "metadata": {
    "id": "XVOMqF6_2fqo"
   },
   "source": [
    "### Best params returned after 3 runs\n",
    "\n",
    "{'colsample_bytree': 0.5, 'eval_metric': 'logloss', 'learning_rate': 0.1, 'max_depth': 25, 'min_child_weight': 0.5, 'n_estimators': 150, 'objective': 'reg:logistic', 'scale_pos_weight': 0.33, 'sub_sample': 0.5}"
   ]
  },
  {
   "cell_type": "code",
   "execution_count": null,
   "metadata": {
    "colab": {
     "base_uri": "https://localhost:8080/"
    },
    "id": "CiHEVvijTNrj",
    "outputId": "a4491f71-8d47-4dee-c93b-d296e1f26a53"
   },
   "outputs": [
    {
     "name": "stdout",
     "output_type": "stream",
     "text": [
      "Train accuracy 1.0\n",
      "Validation accuracy 0.8612565445026178\n"
     ]
    }
   ],
   "source": [
    "model = xgb(eta=0.1, max_depth=25, n_estimators=150, objective='reg:logistic', \n",
    "            scale_pos_weight=0.33, min_child_weight=3, colsample_bytree=0.5, \n",
    "            sub_sample =0.5, random_state=42, eval_metric='logloss') \n",
    "preds = model.fit(X_train, y_train).predict(X_val) \n",
    "print('Train accuracy %s' % model.score(X_train, y_train)) \n",
    "print('Validation accuracy %s' % accuracy_score(preds, y_val))"
   ]
  },
  {
   "cell_type": "markdown",
   "metadata": {
    "id": "fI9wyT5134NV"
   },
   "source": [
    "### Finding optimal threshold for tuned model"
   ]
  },
  {
   "cell_type": "code",
   "execution_count": null,
   "metadata": {
    "colab": {
     "base_uri": "https://localhost:8080/"
    },
    "id": "qEHbbxzATNro",
    "outputId": "0578d9b5-02d3-46ab-df67-31e9432210aa"
   },
   "outputs": [
    {
     "name": "stdout",
     "output_type": "stream",
     "text": [
      "Optimal predict prob threshold: 0.879106\n"
     ]
    }
   ],
   "source": [
    "'''\n",
    "- using tuned hyperparameters\n",
    "- using Youden's J statistic to identify threshold\n",
    "'''\n",
    "yhat = model.predict_proba(X_val)\n",
    "yhat = yhat[:, 1] # keep probabilities for the positive outcome only\n",
    "fpr, tpr, thresholds = metrics.roc_curve(y_val, yhat) # y_true score, y score\n",
    "\n",
    "J = tpr - fpr \n",
    "ix = np.argmax(J)\n",
    "opt_thresh = thresholds[ix]\n",
    "print('Optimal predict prob threshold: %f' % (opt_thresh))"
   ]
  },
  {
   "cell_type": "code",
   "execution_count": null,
   "metadata": {
    "colab": {
     "base_uri": "https://localhost:8080/"
    },
    "execution": {
     "iopub.status.busy": "2021-10-15T18:34:09.165491Z",
     "iopub.status.idle": "2021-10-15T18:34:09.166599Z",
     "shell.execute_reply": "2021-10-15T18:34:09.166288Z",
     "shell.execute_reply.started": "2021-10-15T18:34:09.166253Z"
    },
    "id": "BFD51kPbTNrp",
    "outputId": "ee5bb174-1d92-4e73-ebcc-44fbd4f8cfa5"
   },
   "outputs": [
    {
     "name": "stdout",
     "output_type": "stream",
     "text": [
      "              precision    recall  f1-score   support\n",
      "\n",
      "           0       0.38      0.68      0.49       178\n",
      "           1       0.93      0.80      0.86       968\n",
      "\n",
      "    accuracy                           0.78      1146\n",
      "   macro avg       0.66      0.74      0.68      1146\n",
      "weighted avg       0.85      0.78      0.80      1146\n",
      "\n"
     ]
    }
   ],
   "source": [
    "'''\n",
    "report for optimal threshold (on X_val, trained on X_train)\n",
    "'''\n",
    "def thresh_pred(model, X, thresh):\n",
    "    return (model.predict_proba(X)[:,1] > thresh).astype(int)\n",
    "\n",
    "pred = thresh_pred(model, X_val, opt_thresh)\n",
    "print(metrics.classification_report(y_val, pred))"
   ]
  },
  {
   "cell_type": "markdown",
   "metadata": {
    "id": "ZQuBvmk9kIyH"
   },
   "source": [
    "**Discussion**\n",
    "\n",
    "- We observe that this model has low precision for the 0 classification. We know that the 0 is the minority classification (~18/82 split as seen above). Low precision (or specificity) correspponds to the positive predictive value, or of those we specified as positive, how many are indeed positive.\n",
    "- We observe that is has relatively high recall for both classifications. We know that recall is also known as sensitivity, or the true positive rate. How many positives do we get or \"recall\" of all the true positives.\n",
    "- In aggregate this suggests our model is not identifying all of the 0 classifications"
   ]
  },
  {
   "cell_type": "markdown",
   "metadata": {
    "id": "u1QaIxqCspOY"
   },
   "source": [
    "## Kaggle LB score: 0.66521"
   ]
  },
  {
   "cell_type": "markdown",
   "metadata": {
    "id": "aTQwC-mk4JaK"
   },
   "source": [
    "**Updated kaggle score for tuned model:**  0.66521 (+2%)\n",
    "\n",
    "Notes\n",
    "- this was submitting probabilities (not predicted classes)\n",
    "- this is an improvement over the baseline XGBoost model, which scored 0.65321\n",
    "- using the same model, and submitting predictions (with an optimized threshold) significantly reduced AUC to 0.57753\n",
    "- therefore, going forward, we submitted probabilities to the kaggle leaderboard"
   ]
  },
  {
   "cell_type": "markdown",
   "metadata": {
    "id": "DiNpszBL59jU"
   },
   "source": [
    "# IV. Stacking models"
   ]
  },
  {
   "cell_type": "markdown",
   "metadata": {
    "id": "T1UD2BYP5yOb"
   },
   "source": [
    "Now that we have optimzied the XGBoost model. We will seek to combine it with other models."
   ]
  },
  {
   "cell_type": "markdown",
   "metadata": {
    "id": "Q4qa9ntcIHm6"
   },
   "source": [
    "## \"Default\" stacked model \n",
    "\n",
    "Using code from section 5 to create baseline, tsee if there is an improvement in our evaluation metrics."
   ]
  },
  {
   "cell_type": "code",
   "execution_count": 18,
   "metadata": {
    "id": "bAiXIJhU6FVp"
   },
   "outputs": [],
   "source": [
    "SEED = 1337\n",
    "NFOLDS = 3\n",
    "kf = KFold(n_splits= NFOLDS,shuffle=True, random_state=SEED)\n",
    "\n",
    "Xnp = X.to_numpy()\n",
    "ynp = y.to_numpy()\n",
    "X_trainnp = X_train.to_numpy()\n",
    "y_trainnp = y_train.to_numpy()\n",
    "X_valnp = X_val.to_numpy()\n",
    "y_valnp = y_val.to_numpy()\n",
    "X_testnp = X_test.to_numpy()\n",
    "\n",
    "def get_oof(model, X, y, X_test):\n",
    "  train_preds = np.zeros((X.shape[0],))\n",
    "  test_preds = pd.DataFrame()\n",
    "\n",
    "  # when testing models:\n",
    "  # X -> X_train, y -> y_train, X_test -> X_val\n",
    "\n",
    "  # when creating kaggle model:\n",
    "  # X -> X, y -> y, X_test -> X_test\n",
    "\n",
    "  for i, (train_ix, val_ix) in enumerate(kf.split(X)):\n",
    "    X_train, y_train = X[train_ix], y[train_ix]\n",
    "    X_val = X[val_ix] # \"hold out\" fold\n",
    "\n",
    "    model.fit(X_train, y_train)\n",
    "\n",
    "    train_preds[val_ix] = model.predict_proba(X_val)[:, 1] \n",
    "\n",
    "    test_pred = model.predict_proba(X_test)[:, 1] \n",
    "    test_preds[i] = test_pred\n",
    " \n",
    "  test_preds['proba'] = test_preds.mean(axis=1)\n",
    "  test_preds = test_preds['proba'].to_numpy()\n",
    "  return train_preds.reshape(-1, 1), test_preds.reshape(-1,1)"
   ]
  },
  {
   "cell_type": "code",
   "execution_count": 19,
   "metadata": {
    "id": "3_AomD5B6FnI"
   },
   "outputs": [],
   "source": [
    "# Random Forest parameters\n",
    "rf_params = {\n",
    "    'n_jobs': -1,\n",
    "    'n_estimators': 500,\n",
    "    'max_depth': 6,\n",
    "    'min_samples_leaf': 2,\n",
    "    'max_features' : 'sqrt',\n",
    "    'verbose': 0\n",
    "}\n",
    "\n",
    "# Extra Trees Parameters\n",
    "et_params = {\n",
    "    'n_jobs': -1,\n",
    "    'n_estimators':500,\n",
    "    'max_depth': 8,\n",
    "    'min_samples_leaf': 2,\n",
    "    'verbose': 0\n",
    "}\n",
    "\n",
    "# AdaBoost parameters\n",
    "ada_params = {\n",
    "    'n_estimators': 500,\n",
    "    'learning_rate' : 0.75\n",
    "}\n",
    "\n",
    "# Gradient Boosting parameters\n",
    "gb_params = {\n",
    "    'n_estimators': 100,\n",
    "    'max_depth': 25,\n",
    "    'verbose': 0\n",
    "}\n",
    "\n",
    "# Support Vector Classifier parameters \n",
    "svc_params = {\n",
    "    'kernel' : 'linear',\n",
    "    'C' : 0.025, \n",
    "    'probability':True\n",
    "    }"
   ]
  },
  {
   "cell_type": "code",
   "execution_count": 20,
   "metadata": {
    "id": "xXlsLeBW6Fxi"
   },
   "outputs": [],
   "source": [
    "# models\n",
    "rf = RandomForestClassifier(**rf_params)\n",
    "et = ExtraTreesClassifier(**et_params)\n",
    "ada = AdaBoostClassifier(**ada_params)\n",
    "gb = xgb(**gb_params)\n",
    "svc = SVC(**svc_params)"
   ]
  },
  {
   "cell_type": "code",
   "execution_count": 21,
   "metadata": {
    "id": "YN5xk4_ZHX96"
   },
   "outputs": [],
   "source": [
    "# oof train and test predictions\n",
    "et_oof_train, et_oof_val = get_oof(et, X_trainnp, y_trainnp, X_valnp) # Extra Trees\n",
    "rf_oof_train, rf_oof_val = get_oof(rf, X_trainnp, y_trainnp, X_valnp) # Random Forest\n",
    "ada_oof_train, ada_oof_val = get_oof(ada, X_trainnp, y_trainnp, X_valnp) # AdaBoost \n",
    "gb_oof_train, gb_oof_val = get_oof(gb, X_trainnp, y_trainnp, X_valnp) # Gradient Boost\n",
    "svc_oof_train, svc_oof_val = get_oof(svc, X_trainnp, y_trainnp, X_valnp) # Support Vector Classifier\n",
    "\n",
    "et_oof_X, et_oof_test = get_oof(et, Xnp, ynp, X_testnp) \n",
    "rf_oof_X, rf_oof_test = get_oof(rf, Xnp, ynp, X_testnp) \n",
    "ada_oof_X, ada_oof_test = get_oof(ada, Xnp, ynp, X_testnp) \n",
    "gb_oof_X, gb_oof_test = get_oof(gb, Xnp, ynp, X_testnp) \n",
    "svc_oof_X, svc_oof_test = get_oof(svc, Xnp, ynp, X_testnp)"
   ]
  },
  {
   "cell_type": "code",
   "execution_count": 17,
   "metadata": {
    "colab": {
     "base_uri": "https://localhost:8080/",
     "height": 809
    },
    "id": "hpo9De1kPxr0",
    "outputId": "97d6647c-d388-4848-be7d-89b4189f8d9a"
   },
   "outputs": [
    {
     "data": {
      "text/html": [
       "<div>\n",
       "<style scoped>\n",
       "    .dataframe tbody tr th:only-of-type {\n",
       "        vertical-align: middle;\n",
       "    }\n",
       "\n",
       "    .dataframe tbody tr th {\n",
       "        vertical-align: top;\n",
       "    }\n",
       "\n",
       "    .dataframe thead th {\n",
       "        text-align: right;\n",
       "    }\n",
       "</style>\n",
       "<table border=\"1\" class=\"dataframe\">\n",
       "  <thead>\n",
       "    <tr style=\"text-align: right;\">\n",
       "      <th></th>\n",
       "      <th>ExtraTrees</th>\n",
       "      <th>RandomForest</th>\n",
       "      <th>AdaBoost</th>\n",
       "      <th>GradientBoost</th>\n",
       "      <th>SVM</th>\n",
       "    </tr>\n",
       "  </thead>\n",
       "  <tbody>\n",
       "    <tr>\n",
       "      <th>0</th>\n",
       "      <td>0.657826</td>\n",
       "      <td>0.683709</td>\n",
       "      <td>0.498633</td>\n",
       "      <td>0.032347</td>\n",
       "      <td>0.641948</td>\n",
       "    </tr>\n",
       "    <tr>\n",
       "      <th>1</th>\n",
       "      <td>0.889973</td>\n",
       "      <td>0.893992</td>\n",
       "      <td>0.506577</td>\n",
       "      <td>0.999233</td>\n",
       "      <td>0.929661</td>\n",
       "    </tr>\n",
       "    <tr>\n",
       "      <th>2</th>\n",
       "      <td>0.808805</td>\n",
       "      <td>0.799073</td>\n",
       "      <td>0.517991</td>\n",
       "      <td>0.996208</td>\n",
       "      <td>0.878953</td>\n",
       "    </tr>\n",
       "    <tr>\n",
       "      <th>3</th>\n",
       "      <td>0.814633</td>\n",
       "      <td>0.821099</td>\n",
       "      <td>0.502287</td>\n",
       "      <td>0.994203</td>\n",
       "      <td>0.869041</td>\n",
       "    </tr>\n",
       "    <tr>\n",
       "      <th>4</th>\n",
       "      <td>0.836741</td>\n",
       "      <td>0.892730</td>\n",
       "      <td>0.505705</td>\n",
       "      <td>0.999628</td>\n",
       "      <td>0.895423</td>\n",
       "    </tr>\n",
       "    <tr>\n",
       "      <th>5</th>\n",
       "      <td>0.846725</td>\n",
       "      <td>0.866130</td>\n",
       "      <td>0.520530</td>\n",
       "      <td>0.997357</td>\n",
       "      <td>0.876926</td>\n",
       "    </tr>\n",
       "    <tr>\n",
       "      <th>6</th>\n",
       "      <td>0.804402</td>\n",
       "      <td>0.759553</td>\n",
       "      <td>0.499829</td>\n",
       "      <td>0.970676</td>\n",
       "      <td>0.762391</td>\n",
       "    </tr>\n",
       "    <tr>\n",
       "      <th>7</th>\n",
       "      <td>0.916786</td>\n",
       "      <td>0.896055</td>\n",
       "      <td>0.521371</td>\n",
       "      <td>0.999751</td>\n",
       "      <td>0.871584</td>\n",
       "    </tr>\n",
       "    <tr>\n",
       "      <th>8</th>\n",
       "      <td>0.847469</td>\n",
       "      <td>0.868212</td>\n",
       "      <td>0.505282</td>\n",
       "      <td>0.999102</td>\n",
       "      <td>0.882907</td>\n",
       "    </tr>\n",
       "    <tr>\n",
       "      <th>9</th>\n",
       "      <td>0.967903</td>\n",
       "      <td>0.926428</td>\n",
       "      <td>0.538572</td>\n",
       "      <td>0.999945</td>\n",
       "      <td>0.913308</td>\n",
       "    </tr>\n",
       "    <tr>\n",
       "      <th>10</th>\n",
       "      <td>0.898477</td>\n",
       "      <td>0.898682</td>\n",
       "      <td>0.521147</td>\n",
       "      <td>0.999666</td>\n",
       "      <td>0.892167</td>\n",
       "    </tr>\n",
       "    <tr>\n",
       "      <th>11</th>\n",
       "      <td>0.531801</td>\n",
       "      <td>0.628178</td>\n",
       "      <td>0.500427</td>\n",
       "      <td>0.052775</td>\n",
       "      <td>0.373578</td>\n",
       "    </tr>\n",
       "    <tr>\n",
       "      <th>12</th>\n",
       "      <td>0.838117</td>\n",
       "      <td>0.824286</td>\n",
       "      <td>0.502163</td>\n",
       "      <td>0.992262</td>\n",
       "      <td>0.868464</td>\n",
       "    </tr>\n",
       "    <tr>\n",
       "      <th>13</th>\n",
       "      <td>0.850834</td>\n",
       "      <td>0.802812</td>\n",
       "      <td>0.507067</td>\n",
       "      <td>0.995183</td>\n",
       "      <td>0.842051</td>\n",
       "    </tr>\n",
       "    <tr>\n",
       "      <th>14</th>\n",
       "      <td>0.861803</td>\n",
       "      <td>0.863904</td>\n",
       "      <td>0.526486</td>\n",
       "      <td>0.998388</td>\n",
       "      <td>0.911046</td>\n",
       "    </tr>\n",
       "    <tr>\n",
       "      <th>15</th>\n",
       "      <td>0.899376</td>\n",
       "      <td>0.879000</td>\n",
       "      <td>0.520527</td>\n",
       "      <td>0.999487</td>\n",
       "      <td>0.944955</td>\n",
       "    </tr>\n",
       "    <tr>\n",
       "      <th>16</th>\n",
       "      <td>0.780361</td>\n",
       "      <td>0.811709</td>\n",
       "      <td>0.501230</td>\n",
       "      <td>0.687982</td>\n",
       "      <td>0.870452</td>\n",
       "    </tr>\n",
       "    <tr>\n",
       "      <th>17</th>\n",
       "      <td>0.834478</td>\n",
       "      <td>0.870124</td>\n",
       "      <td>0.501367</td>\n",
       "      <td>0.999164</td>\n",
       "      <td>0.849811</td>\n",
       "    </tr>\n",
       "    <tr>\n",
       "      <th>18</th>\n",
       "      <td>0.870078</td>\n",
       "      <td>0.854133</td>\n",
       "      <td>0.500871</td>\n",
       "      <td>0.955829</td>\n",
       "      <td>0.851754</td>\n",
       "    </tr>\n",
       "    <tr>\n",
       "      <th>19</th>\n",
       "      <td>0.890656</td>\n",
       "      <td>0.879097</td>\n",
       "      <td>0.501431</td>\n",
       "      <td>0.989721</td>\n",
       "      <td>0.874312</td>\n",
       "    </tr>\n",
       "    <tr>\n",
       "      <th>20</th>\n",
       "      <td>0.836822</td>\n",
       "      <td>0.852858</td>\n",
       "      <td>0.502863</td>\n",
       "      <td>0.965260</td>\n",
       "      <td>0.870238</td>\n",
       "    </tr>\n",
       "    <tr>\n",
       "      <th>21</th>\n",
       "      <td>0.742974</td>\n",
       "      <td>0.794995</td>\n",
       "      <td>0.499358</td>\n",
       "      <td>0.898305</td>\n",
       "      <td>0.701662</td>\n",
       "    </tr>\n",
       "    <tr>\n",
       "      <th>22</th>\n",
       "      <td>0.944432</td>\n",
       "      <td>0.936300</td>\n",
       "      <td>0.506431</td>\n",
       "      <td>0.999261</td>\n",
       "      <td>0.895833</td>\n",
       "    </tr>\n",
       "    <tr>\n",
       "      <th>23</th>\n",
       "      <td>0.928225</td>\n",
       "      <td>0.945409</td>\n",
       "      <td>0.503334</td>\n",
       "      <td>0.998175</td>\n",
       "      <td>0.839373</td>\n",
       "    </tr>\n",
       "    <tr>\n",
       "      <th>24</th>\n",
       "      <td>0.888705</td>\n",
       "      <td>0.880342</td>\n",
       "      <td>0.517780</td>\n",
       "      <td>0.998001</td>\n",
       "      <td>0.865893</td>\n",
       "    </tr>\n",
       "  </tbody>\n",
       "</table>\n",
       "</div>"
      ],
      "text/plain": [
       "    ExtraTrees  RandomForest  AdaBoost  GradientBoost       SVM\n",
       "0     0.657826      0.683709  0.498633       0.032347  0.641948\n",
       "1     0.889973      0.893992  0.506577       0.999233  0.929661\n",
       "2     0.808805      0.799073  0.517991       0.996208  0.878953\n",
       "3     0.814633      0.821099  0.502287       0.994203  0.869041\n",
       "4     0.836741      0.892730  0.505705       0.999628  0.895423\n",
       "5     0.846725      0.866130  0.520530       0.997357  0.876926\n",
       "6     0.804402      0.759553  0.499829       0.970676  0.762391\n",
       "7     0.916786      0.896055  0.521371       0.999751  0.871584\n",
       "8     0.847469      0.868212  0.505282       0.999102  0.882907\n",
       "9     0.967903      0.926428  0.538572       0.999945  0.913308\n",
       "10    0.898477      0.898682  0.521147       0.999666  0.892167\n",
       "11    0.531801      0.628178  0.500427       0.052775  0.373578\n",
       "12    0.838117      0.824286  0.502163       0.992262  0.868464\n",
       "13    0.850834      0.802812  0.507067       0.995183  0.842051\n",
       "14    0.861803      0.863904  0.526486       0.998388  0.911046\n",
       "15    0.899376      0.879000  0.520527       0.999487  0.944955\n",
       "16    0.780361      0.811709  0.501230       0.687982  0.870452\n",
       "17    0.834478      0.870124  0.501367       0.999164  0.849811\n",
       "18    0.870078      0.854133  0.500871       0.955829  0.851754\n",
       "19    0.890656      0.879097  0.501431       0.989721  0.874312\n",
       "20    0.836822      0.852858  0.502863       0.965260  0.870238\n",
       "21    0.742974      0.794995  0.499358       0.898305  0.701662\n",
       "22    0.944432      0.936300  0.506431       0.999261  0.895833\n",
       "23    0.928225      0.945409  0.503334       0.998175  0.839373\n",
       "24    0.888705      0.880342  0.517780       0.998001  0.865893"
      ]
     },
     "execution_count": 17,
     "metadata": {},
     "output_type": "execute_result"
    }
   ],
   "source": [
    "base_predictions_train = pd.DataFrame( {'ExtraTrees': et_oof_train.ravel(), \n",
    "                                        'RandomForest': rf_oof_train.ravel(), \n",
    "                                        'AdaBoost': ada_oof_train.ravel(),\n",
    "                                        'GradientBoost': gb_oof_train.ravel(),\n",
    "                                        'SVM': svc_oof_train.ravel()})\n",
    "base_predictions_train[:25]"
   ]
  },
  {
   "cell_type": "code",
   "execution_count": 18,
   "metadata": {
    "id": "pweJ1T3tQHTm"
   },
   "outputs": [],
   "source": [
    "x_train = np.concatenate((et_oof_train, rf_oof_train, ada_oof_train, gb_oof_train, svc_oof_train), axis=1)\n",
    "x_val = np.concatenate((et_oof_val, rf_oof_val, ada_oof_val, gb_oof_val, svc_oof_val), axis=1)\n",
    "\n",
    "x_ = np.concatenate((et_oof_X, rf_oof_X, ada_oof_X, gb_oof_X, svc_oof_X), axis=1)\n",
    "x_test = np.concatenate((et_oof_test, rf_oof_test, ada_oof_test, gb_oof_test, svc_oof_test), axis=1)"
   ]
  },
  {
   "cell_type": "code",
   "execution_count": 19,
   "metadata": {
    "id": "J36hGeMYQLFM"
   },
   "outputs": [],
   "source": [
    "# generate probabilities from meta model\n",
    "meta_model = xgb(eta=0.1, max_depth=25, n_estimators=150, objective='reg:logistic', \n",
    "            scale_pos_weight=0.33, min_child_weight=3, colsample_bytree=0.5, \n",
    "            sub_sample =0.5, random_state=42, eval_metric='logloss').fit(x_train, y_train)\n",
    "\n",
    "meta_probs = meta_model.predict_proba(x_val)[:, 1]"
   ]
  },
  {
   "cell_type": "code",
   "execution_count": 20,
   "metadata": {
    "id": "CerIPiTrrNmd"
   },
   "outputs": [],
   "source": [
    "# re-generate probabilities from optimized XGBoost model\n",
    "model = xgb(eta=0.1, max_depth=25, n_estimators=150, objective='reg:logistic', \n",
    "            scale_pos_weight=0.33, min_child_weight=3, colsample_bytree=0.5, \n",
    "            sub_sample =0.5, random_state=42, eval_metric='logloss').fit(X_train, y_train)\n",
    "            \n",
    "probs = model.predict_proba(X_val)[:, 1]"
   ]
  },
  {
   "cell_type": "code",
   "execution_count": 21,
   "metadata": {
    "colab": {
     "base_uri": "https://localhost:8080/"
    },
    "id": "6gXqfArTRW0f",
    "outputId": "74bbc1ee-1d0b-42c5-d7cf-4416541be225"
   },
   "outputs": [
    {
     "name": "stdout",
     "output_type": "stream",
     "text": [
      "Optimal predict prob threshold: 0.804157\n"
     ]
    }
   ],
   "source": [
    "# calculate optimal threshold for stacked model\n",
    "meta_fpr, meta_tpr, thresholds = metrics.roc_curve(y_val, meta_probs) \n",
    "J = meta_tpr - meta_fpr \n",
    "ix = np.argmax(J)\n",
    "meta_opt_thresh = thresholds[ix]\n",
    "print('Optimal predict prob threshold: %f' % (meta_opt_thresh))"
   ]
  },
  {
   "cell_type": "code",
   "execution_count": 22,
   "metadata": {
    "colab": {
     "base_uri": "https://localhost:8080/"
    },
    "id": "cnf_T3jXqx_2",
    "outputId": "4dabefe8-1bc5-4961-9af9-ab43352a2c89"
   },
   "outputs": [
    {
     "name": "stdout",
     "output_type": "stream",
     "text": [
      "Optimal predict prob threshold: 0.923717\n"
     ]
    }
   ],
   "source": [
    "# calculate optimal threshold for XGboost model\n",
    "XGBoost_fpr, XGBoost_tpr, thresholds = metrics.roc_curve(y_val, probs) \n",
    "J = XGBoost_tpr - XGBoost_fpr \n",
    "ix = np.argmax(J)\n",
    "opt_thresh = thresholds[ix]\n",
    "print('Optimal predict prob threshold: %f' % (opt_thresh))"
   ]
  },
  {
   "cell_type": "code",
   "execution_count": 23,
   "metadata": {
    "colab": {
     "base_uri": "https://localhost:8080/"
    },
    "id": "l75XbHV9qkJV",
    "outputId": "0cdd50ef-faa9-4070-dfaa-31288c17e090"
   },
   "outputs": [
    {
     "name": "stdout",
     "output_type": "stream",
     "text": [
      "              precision    recall  f1-score   support\n",
      "\n",
      "           0       0.39      0.83      0.53       178\n",
      "           1       0.96      0.76      0.85       968\n",
      "\n",
      "    accuracy                           0.77      1146\n",
      "   macro avg       0.67      0.79      0.69      1146\n",
      "weighted avg       0.87      0.77      0.80      1146\n",
      "\n"
     ]
    }
   ],
   "source": [
    "# print classification report\n",
    "def thresh_pred(model, X, thresh):\n",
    "    return (model.predict_proba(X)[:,1] > thresh).astype(int)\n",
    "\n",
    "meta_preds = thresh_pred(meta_model, x_val, meta_opt_thresh)\n",
    "preds = thresh_pred(model, X_val, opt_thresh)\n",
    "print(metrics.classification_report(y_val, meta_preds))"
   ]
  },
  {
   "cell_type": "code",
   "execution_count": 24,
   "metadata": {
    "colab": {
     "base_uri": "https://localhost:8080/"
    },
    "id": "N6hswQhTRClT",
    "outputId": "c5f60984-5ca3-41eb-9c6d-f19d362506d0"
   },
   "outputs": [
    {
     "name": "stdout",
     "output_type": "stream",
     "text": [
      "Accuracy score with default threshold  0.8464223385689355\n",
      "Accuracy score with optimized threshold 0.7705061082024433\n"
     ]
    }
   ],
   "source": [
    "# test accuracy on validation set\n",
    "# first default threshold; then optimized threshold\n",
    "print(\"Accuracy score with default threshold \", accuracy_score(y_val, thresh_pred(meta_model, x_val, 0.5)))\n",
    "print(\"Accuracy score with optimized threshold\", accuracy_score(y_val, thresh_pred(meta_model, x_val, meta_opt_thresh)))"
   ]
  },
  {
   "cell_type": "code",
   "execution_count": 25,
   "metadata": {
    "colab": {
     "base_uri": "https://localhost:8080/"
    },
    "id": "__ea4Heo6-FL",
    "outputId": "0e570827-f78b-4a25-81cf-dae987813b24"
   },
   "outputs": [
    {
     "name": "stdout",
     "output_type": "stream",
     "text": [
      "Accuracy score with using baseline stacked model  0.7705061082024433\n",
      "Accuracy score with optimized XGBoost model  0.7347294938917975\n",
      "ROC AUC score with using baseline stacked model  0.7930866375708052\n",
      "ROC AUC score with optimized XGBoost model  0.7810787909740923\n"
     ]
    }
   ],
   "source": [
    "# compare to optimized model; generate model on original dataset\n",
    "print(\"Accuracy score with using baseline stacked model \", accuracy_score(y_val, meta_preds))\n",
    "print(\"Accuracy score with optimized XGBoost model \", accuracy_score(y_val, preds))\n",
    "print(\"ROC AUC score with using baseline stacked model \", metrics.roc_auc_score(y_val, meta_preds))\n",
    "print(\"ROC AUC score with optimized XGBoost model \", metrics.roc_auc_score(y_val, preds))"
   ]
  },
  {
   "cell_type": "markdown",
   "metadata": {
    "id": "CWLixDgta-qU"
   },
   "source": [
    "**Discussion**\n",
    "\n",
    "- We see the stacked model  more accurate (in terms of accuracy_score) and has a higher AUC despite only 5 models in it.\n",
    "- We also observe that the optimzied threshold does not appear to improve accuracy (and we saw this earlier comparing submissions of the same model submitted to the kaggle LB, one with the default 0.5 threshold and another with an optimized threshold developed using the Youden's J statistics).\n",
    "- That said, we do see that it improves AUC."
   ]
  },
  {
   "cell_type": "markdown",
   "metadata": {
    "id": "BLJBVQgbWYjx"
   },
   "source": [
    "## Improving upon base stacked model\n",
    "\n",
    "We will add 5 models to inrease the size of the meta model from 5 learners to 10 learners: \n",
    "- KNN\n",
    "- Logistic Regression\n",
    "- Naive Bayes \n",
    "- MLPClassifier\n",
    "- LDA"
   ]
  },
  {
   "cell_type": "markdown",
   "metadata": {
    "id": "oxHiMs5mifcC"
   },
   "source": [
    "### Adding Sklearn models (KNN, Logistic Regression, Naive Bayes, MLPClassifier, LDA)"
   ]
  },
  {
   "cell_type": "code",
   "execution_count": 22,
   "metadata": {
    "execution": {
     "iopub.execute_input": "2021-10-09T16:02:29.099079Z",
     "iopub.status.busy": "2021-10-09T16:02:29.098784Z",
     "iopub.status.idle": "2021-10-09T16:02:29.124638Z",
     "shell.execute_reply": "2021-10-09T16:02:29.12374Z",
     "shell.execute_reply.started": "2021-10-09T16:02:29.09905Z"
    },
    "id": "jp1ievgkTNrr"
   },
   "outputs": [],
   "source": [
    "knn = KNeighborsClassifier()\n",
    "lr = LogisticRegression()\n",
    "nb = GaussianNB()\n",
    "mlp = MLPClassifier()\n",
    "lda = LDA()"
   ]
  },
  {
   "cell_type": "code",
   "execution_count": 23,
   "metadata": {
    "id": "fTKDPe5X6yXs"
   },
   "outputs": [],
   "source": [
    "knn_oof_train, knn_oof_val = get_oof(knn, X_trainnp, y_trainnp, X_valnp) # KNN\n",
    "lr_oof_train, lr_oof_val = get_oof(lr, X_trainnp, y_trainnp, X_valnp) # Logistic Regression\n",
    "nb_oof_train, nb_oof_val = get_oof(nb, X_trainnp, y_trainnp, X_valnp) # Naive Bayes\n",
    "mlp_oof_train, mlp_oof_val = get_oof(mlp, X_trainnp, y_trainnp, X_valnp) # MLPClassifier\n",
    "lda_oof_train, lda_oof_val = get_oof(lda, X_trainnp, y_trainnp, X_valnp) # LDA\n",
    "\n",
    "knn_oof_X, knn_oof_test = get_oof(knn, Xnp, ynp, X_testnp) \n",
    "lr_oof_X, lr_oof_test = get_oof(lr, Xnp, ynp, X_testnp) \n",
    "nb_oof_X, nb_oof_test = get_oof(nb, Xnp, ynp, X_testnp) \n",
    "mlp_oof_X, mlp_oof_test = get_oof(mlp, Xnp, ynp, X_testnp)\n",
    "lda_oof_X, lda_oof_test = get_oof(lda, Xnp, ynp, X_testnp) "
   ]
  },
  {
   "cell_type": "code",
   "execution_count": 28,
   "metadata": {
    "colab": {
     "base_uri": "https://localhost:8080/",
     "height": 809
    },
    "id": "guKzE_8kTNrt",
    "outputId": "a9aaa892-ff7b-4b6a-bb99-a9da5fdc3e6a"
   },
   "outputs": [
    {
     "data": {
      "text/html": [
       "<div>\n",
       "<style scoped>\n",
       "    .dataframe tbody tr th:only-of-type {\n",
       "        vertical-align: middle;\n",
       "    }\n",
       "\n",
       "    .dataframe tbody tr th {\n",
       "        vertical-align: top;\n",
       "    }\n",
       "\n",
       "    .dataframe thead th {\n",
       "        text-align: right;\n",
       "    }\n",
       "</style>\n",
       "<table border=\"1\" class=\"dataframe\">\n",
       "  <thead>\n",
       "    <tr style=\"text-align: right;\">\n",
       "      <th></th>\n",
       "      <th>ExtraTrees</th>\n",
       "      <th>RandomForest</th>\n",
       "      <th>AdaBoost</th>\n",
       "      <th>GradientBoost</th>\n",
       "      <th>SVM</th>\n",
       "      <th>KNeighborsClassifier</th>\n",
       "      <th>LogisticRegression</th>\n",
       "      <th>GaussianNB</th>\n",
       "      <th>MLPClassifier</th>\n",
       "      <th>LDA</th>\n",
       "    </tr>\n",
       "  </thead>\n",
       "  <tbody>\n",
       "    <tr>\n",
       "      <th>0</th>\n",
       "      <td>0.657826</td>\n",
       "      <td>0.683709</td>\n",
       "      <td>0.498633</td>\n",
       "      <td>0.032347</td>\n",
       "      <td>0.641948</td>\n",
       "      <td>0.6</td>\n",
       "      <td>0.568693</td>\n",
       "      <td>6.247577e-191</td>\n",
       "      <td>0.215965</td>\n",
       "      <td>0.008103</td>\n",
       "    </tr>\n",
       "    <tr>\n",
       "      <th>1</th>\n",
       "      <td>0.889973</td>\n",
       "      <td>0.893992</td>\n",
       "      <td>0.506577</td>\n",
       "      <td>0.999233</td>\n",
       "      <td>0.929661</td>\n",
       "      <td>0.8</td>\n",
       "      <td>0.980339</td>\n",
       "      <td>1.755807e-57</td>\n",
       "      <td>0.991411</td>\n",
       "      <td>0.992741</td>\n",
       "    </tr>\n",
       "    <tr>\n",
       "      <th>2</th>\n",
       "      <td>0.808805</td>\n",
       "      <td>0.799073</td>\n",
       "      <td>0.517991</td>\n",
       "      <td>0.996208</td>\n",
       "      <td>0.878953</td>\n",
       "      <td>0.8</td>\n",
       "      <td>0.992122</td>\n",
       "      <td>1.000000e+00</td>\n",
       "      <td>0.999983</td>\n",
       "      <td>0.990457</td>\n",
       "    </tr>\n",
       "    <tr>\n",
       "      <th>3</th>\n",
       "      <td>0.814633</td>\n",
       "      <td>0.821099</td>\n",
       "      <td>0.502287</td>\n",
       "      <td>0.994203</td>\n",
       "      <td>0.869041</td>\n",
       "      <td>1.0</td>\n",
       "      <td>0.954182</td>\n",
       "      <td>1.787847e-06</td>\n",
       "      <td>0.962771</td>\n",
       "      <td>0.988245</td>\n",
       "    </tr>\n",
       "    <tr>\n",
       "      <th>4</th>\n",
       "      <td>0.836741</td>\n",
       "      <td>0.892730</td>\n",
       "      <td>0.505705</td>\n",
       "      <td>0.999628</td>\n",
       "      <td>0.895423</td>\n",
       "      <td>0.6</td>\n",
       "      <td>0.969116</td>\n",
       "      <td>1.404337e-69</td>\n",
       "      <td>0.967787</td>\n",
       "      <td>0.992398</td>\n",
       "    </tr>\n",
       "    <tr>\n",
       "      <th>5</th>\n",
       "      <td>0.846725</td>\n",
       "      <td>0.866130</td>\n",
       "      <td>0.520530</td>\n",
       "      <td>0.997357</td>\n",
       "      <td>0.876926</td>\n",
       "      <td>0.8</td>\n",
       "      <td>0.930397</td>\n",
       "      <td>5.812339e-71</td>\n",
       "      <td>0.942570</td>\n",
       "      <td>0.989035</td>\n",
       "    </tr>\n",
       "    <tr>\n",
       "      <th>6</th>\n",
       "      <td>0.804402</td>\n",
       "      <td>0.759553</td>\n",
       "      <td>0.499829</td>\n",
       "      <td>0.970676</td>\n",
       "      <td>0.762391</td>\n",
       "      <td>0.8</td>\n",
       "      <td>0.587441</td>\n",
       "      <td>1.000000e+00</td>\n",
       "      <td>0.721385</td>\n",
       "      <td>0.039447</td>\n",
       "    </tr>\n",
       "    <tr>\n",
       "      <th>7</th>\n",
       "      <td>0.916786</td>\n",
       "      <td>0.896055</td>\n",
       "      <td>0.521371</td>\n",
       "      <td>0.999751</td>\n",
       "      <td>0.871584</td>\n",
       "      <td>0.8</td>\n",
       "      <td>0.964730</td>\n",
       "      <td>2.066225e-15</td>\n",
       "      <td>0.983718</td>\n",
       "      <td>0.963793</td>\n",
       "    </tr>\n",
       "    <tr>\n",
       "      <th>8</th>\n",
       "      <td>0.847469</td>\n",
       "      <td>0.868212</td>\n",
       "      <td>0.505282</td>\n",
       "      <td>0.999102</td>\n",
       "      <td>0.882907</td>\n",
       "      <td>1.0</td>\n",
       "      <td>0.871256</td>\n",
       "      <td>1.806680e-78</td>\n",
       "      <td>0.945460</td>\n",
       "      <td>0.971885</td>\n",
       "    </tr>\n",
       "    <tr>\n",
       "      <th>9</th>\n",
       "      <td>0.967903</td>\n",
       "      <td>0.926428</td>\n",
       "      <td>0.538572</td>\n",
       "      <td>0.999945</td>\n",
       "      <td>0.913308</td>\n",
       "      <td>1.0</td>\n",
       "      <td>0.990198</td>\n",
       "      <td>1.000000e+00</td>\n",
       "      <td>0.998375</td>\n",
       "      <td>0.979633</td>\n",
       "    </tr>\n",
       "    <tr>\n",
       "      <th>10</th>\n",
       "      <td>0.898477</td>\n",
       "      <td>0.898682</td>\n",
       "      <td>0.521147</td>\n",
       "      <td>0.999666</td>\n",
       "      <td>0.892167</td>\n",
       "      <td>1.0</td>\n",
       "      <td>0.988762</td>\n",
       "      <td>1.000000e+00</td>\n",
       "      <td>0.999617</td>\n",
       "      <td>0.962432</td>\n",
       "    </tr>\n",
       "    <tr>\n",
       "      <th>11</th>\n",
       "      <td>0.531801</td>\n",
       "      <td>0.628178</td>\n",
       "      <td>0.500427</td>\n",
       "      <td>0.052775</td>\n",
       "      <td>0.373578</td>\n",
       "      <td>0.0</td>\n",
       "      <td>0.300769</td>\n",
       "      <td>1.597661e-82</td>\n",
       "      <td>0.144651</td>\n",
       "      <td>0.292031</td>\n",
       "    </tr>\n",
       "    <tr>\n",
       "      <th>12</th>\n",
       "      <td>0.838117</td>\n",
       "      <td>0.824286</td>\n",
       "      <td>0.502163</td>\n",
       "      <td>0.992262</td>\n",
       "      <td>0.868464</td>\n",
       "      <td>0.6</td>\n",
       "      <td>0.939837</td>\n",
       "      <td>1.306897e-59</td>\n",
       "      <td>0.968590</td>\n",
       "      <td>0.997430</td>\n",
       "    </tr>\n",
       "    <tr>\n",
       "      <th>13</th>\n",
       "      <td>0.850834</td>\n",
       "      <td>0.802812</td>\n",
       "      <td>0.507067</td>\n",
       "      <td>0.995183</td>\n",
       "      <td>0.842051</td>\n",
       "      <td>0.8</td>\n",
       "      <td>0.878855</td>\n",
       "      <td>4.230572e-50</td>\n",
       "      <td>0.835310</td>\n",
       "      <td>0.924836</td>\n",
       "    </tr>\n",
       "    <tr>\n",
       "      <th>14</th>\n",
       "      <td>0.861803</td>\n",
       "      <td>0.863904</td>\n",
       "      <td>0.526486</td>\n",
       "      <td>0.998388</td>\n",
       "      <td>0.911046</td>\n",
       "      <td>0.6</td>\n",
       "      <td>0.964631</td>\n",
       "      <td>1.024700e-19</td>\n",
       "      <td>0.879560</td>\n",
       "      <td>0.999826</td>\n",
       "    </tr>\n",
       "    <tr>\n",
       "      <th>15</th>\n",
       "      <td>0.899376</td>\n",
       "      <td>0.879000</td>\n",
       "      <td>0.520527</td>\n",
       "      <td>0.999487</td>\n",
       "      <td>0.944955</td>\n",
       "      <td>1.0</td>\n",
       "      <td>0.997396</td>\n",
       "      <td>1.000000e+00</td>\n",
       "      <td>0.999982</td>\n",
       "      <td>0.994769</td>\n",
       "    </tr>\n",
       "    <tr>\n",
       "      <th>16</th>\n",
       "      <td>0.780361</td>\n",
       "      <td>0.811709</td>\n",
       "      <td>0.501230</td>\n",
       "      <td>0.687982</td>\n",
       "      <td>0.870452</td>\n",
       "      <td>0.8</td>\n",
       "      <td>0.705127</td>\n",
       "      <td>3.030362e-38</td>\n",
       "      <td>0.809277</td>\n",
       "      <td>0.948905</td>\n",
       "    </tr>\n",
       "    <tr>\n",
       "      <th>17</th>\n",
       "      <td>0.834478</td>\n",
       "      <td>0.870124</td>\n",
       "      <td>0.501367</td>\n",
       "      <td>0.999164</td>\n",
       "      <td>0.849811</td>\n",
       "      <td>0.6</td>\n",
       "      <td>0.740200</td>\n",
       "      <td>3.796530e-63</td>\n",
       "      <td>0.922051</td>\n",
       "      <td>0.948593</td>\n",
       "    </tr>\n",
       "    <tr>\n",
       "      <th>18</th>\n",
       "      <td>0.870078</td>\n",
       "      <td>0.854133</td>\n",
       "      <td>0.500871</td>\n",
       "      <td>0.955829</td>\n",
       "      <td>0.851754</td>\n",
       "      <td>0.8</td>\n",
       "      <td>0.906630</td>\n",
       "      <td>5.294515e-49</td>\n",
       "      <td>0.970804</td>\n",
       "      <td>0.966923</td>\n",
       "    </tr>\n",
       "    <tr>\n",
       "      <th>19</th>\n",
       "      <td>0.890656</td>\n",
       "      <td>0.879097</td>\n",
       "      <td>0.501431</td>\n",
       "      <td>0.989721</td>\n",
       "      <td>0.874312</td>\n",
       "      <td>1.0</td>\n",
       "      <td>0.874011</td>\n",
       "      <td>2.208758e-33</td>\n",
       "      <td>0.916401</td>\n",
       "      <td>0.960527</td>\n",
       "    </tr>\n",
       "    <tr>\n",
       "      <th>20</th>\n",
       "      <td>0.836822</td>\n",
       "      <td>0.852858</td>\n",
       "      <td>0.502863</td>\n",
       "      <td>0.965260</td>\n",
       "      <td>0.870238</td>\n",
       "      <td>0.6</td>\n",
       "      <td>0.821631</td>\n",
       "      <td>1.988753e-67</td>\n",
       "      <td>0.852923</td>\n",
       "      <td>0.913358</td>\n",
       "    </tr>\n",
       "    <tr>\n",
       "      <th>21</th>\n",
       "      <td>0.742974</td>\n",
       "      <td>0.794995</td>\n",
       "      <td>0.499358</td>\n",
       "      <td>0.898305</td>\n",
       "      <td>0.701662</td>\n",
       "      <td>0.6</td>\n",
       "      <td>0.581908</td>\n",
       "      <td>1.214162e-41</td>\n",
       "      <td>0.562535</td>\n",
       "      <td>0.716085</td>\n",
       "    </tr>\n",
       "    <tr>\n",
       "      <th>22</th>\n",
       "      <td>0.944432</td>\n",
       "      <td>0.936300</td>\n",
       "      <td>0.506431</td>\n",
       "      <td>0.999261</td>\n",
       "      <td>0.895833</td>\n",
       "      <td>1.0</td>\n",
       "      <td>0.983800</td>\n",
       "      <td>1.000000e+00</td>\n",
       "      <td>0.997375</td>\n",
       "      <td>0.997199</td>\n",
       "    </tr>\n",
       "    <tr>\n",
       "      <th>23</th>\n",
       "      <td>0.928225</td>\n",
       "      <td>0.945409</td>\n",
       "      <td>0.503334</td>\n",
       "      <td>0.998175</td>\n",
       "      <td>0.839373</td>\n",
       "      <td>1.0</td>\n",
       "      <td>0.884473</td>\n",
       "      <td>7.421562e-25</td>\n",
       "      <td>0.935242</td>\n",
       "      <td>0.916233</td>\n",
       "    </tr>\n",
       "    <tr>\n",
       "      <th>24</th>\n",
       "      <td>0.888705</td>\n",
       "      <td>0.880342</td>\n",
       "      <td>0.517780</td>\n",
       "      <td>0.998001</td>\n",
       "      <td>0.865893</td>\n",
       "      <td>0.8</td>\n",
       "      <td>0.961323</td>\n",
       "      <td>1.000000e+00</td>\n",
       "      <td>0.999426</td>\n",
       "      <td>0.795738</td>\n",
       "    </tr>\n",
       "  </tbody>\n",
       "</table>\n",
       "</div>"
      ],
      "text/plain": [
       "    ExtraTrees  RandomForest  AdaBoost  ...     GaussianNB  MLPClassifier       LDA\n",
       "0     0.657826      0.683709  0.498633  ...  6.247577e-191       0.215965  0.008103\n",
       "1     0.889973      0.893992  0.506577  ...   1.755807e-57       0.991411  0.992741\n",
       "2     0.808805      0.799073  0.517991  ...   1.000000e+00       0.999983  0.990457\n",
       "3     0.814633      0.821099  0.502287  ...   1.787847e-06       0.962771  0.988245\n",
       "4     0.836741      0.892730  0.505705  ...   1.404337e-69       0.967787  0.992398\n",
       "5     0.846725      0.866130  0.520530  ...   5.812339e-71       0.942570  0.989035\n",
       "6     0.804402      0.759553  0.499829  ...   1.000000e+00       0.721385  0.039447\n",
       "7     0.916786      0.896055  0.521371  ...   2.066225e-15       0.983718  0.963793\n",
       "8     0.847469      0.868212  0.505282  ...   1.806680e-78       0.945460  0.971885\n",
       "9     0.967903      0.926428  0.538572  ...   1.000000e+00       0.998375  0.979633\n",
       "10    0.898477      0.898682  0.521147  ...   1.000000e+00       0.999617  0.962432\n",
       "11    0.531801      0.628178  0.500427  ...   1.597661e-82       0.144651  0.292031\n",
       "12    0.838117      0.824286  0.502163  ...   1.306897e-59       0.968590  0.997430\n",
       "13    0.850834      0.802812  0.507067  ...   4.230572e-50       0.835310  0.924836\n",
       "14    0.861803      0.863904  0.526486  ...   1.024700e-19       0.879560  0.999826\n",
       "15    0.899376      0.879000  0.520527  ...   1.000000e+00       0.999982  0.994769\n",
       "16    0.780361      0.811709  0.501230  ...   3.030362e-38       0.809277  0.948905\n",
       "17    0.834478      0.870124  0.501367  ...   3.796530e-63       0.922051  0.948593\n",
       "18    0.870078      0.854133  0.500871  ...   5.294515e-49       0.970804  0.966923\n",
       "19    0.890656      0.879097  0.501431  ...   2.208758e-33       0.916401  0.960527\n",
       "20    0.836822      0.852858  0.502863  ...   1.988753e-67       0.852923  0.913358\n",
       "21    0.742974      0.794995  0.499358  ...   1.214162e-41       0.562535  0.716085\n",
       "22    0.944432      0.936300  0.506431  ...   1.000000e+00       0.997375  0.997199\n",
       "23    0.928225      0.945409  0.503334  ...   7.421562e-25       0.935242  0.916233\n",
       "24    0.888705      0.880342  0.517780  ...   1.000000e+00       0.999426  0.795738\n",
       "\n",
       "[25 rows x 10 columns]"
      ]
     },
     "execution_count": 28,
     "metadata": {},
     "output_type": "execute_result"
    }
   ],
   "source": [
    "# update meta feature set\n",
    "updated_predictions = base_predictions_train\n",
    "updated_predictions['KNeighborsClassifier'] = knn_oof_train.ravel()\n",
    "updated_predictions['LogisticRegression'] = lr_oof_train.ravel()\n",
    "updated_predictions['GaussianNB'] = nb_oof_train.ravel()\n",
    "updated_predictions['MLPClassifier'] = mlp_oof_train.ravel()\n",
    "updated_predictions['LDA'] = lda_oof_train.ravel()\n",
    "updated_predictions[:25]"
   ]
  },
  {
   "cell_type": "code",
   "execution_count": 29,
   "metadata": {
    "id": "gHCcMqv0fzIn"
   },
   "outputs": [],
   "source": [
    "x_train = np.concatenate((et_oof_train, rf_oof_train, ada_oof_train, gb_oof_train, svc_oof_train, knn_oof_train, lr_oof_train, nb_oof_train, mlp_oof_train, lda_oof_train), axis=1)\n",
    "x_val = np.concatenate((et_oof_val, rf_oof_val, ada_oof_val, gb_oof_val, svc_oof_val, knn_oof_val, lr_oof_val, nb_oof_val, mlp_oof_val, lda_oof_val), axis=1)\n",
    "\n",
    "x_ = np.concatenate((et_oof_X, rf_oof_X, ada_oof_X, gb_oof_X, svc_oof_X, knn_oof_X, lr_oof_X, nb_oof_X, mlp_oof_X, lda_oof_X), axis=1)\n",
    "x_test = np.concatenate((et_oof_test, rf_oof_test, ada_oof_test, gb_oof_test, svc_oof_test, knn_oof_test, lr_oof_test, nb_oof_test, mlp_oof_test, lda_oof_test), axis=1)"
   ]
  },
  {
   "cell_type": "code",
   "execution_count": null,
   "metadata": {
    "colab": {
     "base_uri": "https://localhost:8080/"
    },
    "id": "0mJNCttblq41",
    "outputId": "d9cc3d63-edb1-427b-b912-8428387e8dd8"
   },
   "outputs": [
    {
     "name": "stdout",
     "output_type": "stream",
     "text": [
      "Training execution time (mins) 12.144798405965169\n",
      "Best param of XGB {'colsample_bytree': 0.5, 'eval_metric': 'logloss', 'learning_rate': 0.1, 'max_depth': 25, 'min_child_weight': 0.5, 'n_estimators': 150, 'objective': 'reg:logistic', 'scale_pos_weight': 0.33, 'sub_sample': 0.4}\n",
      "Best score 0.8574752763234438\n"
     ]
    }
   ],
   "source": [
    "# get best parameters for XGBoost used in stacked model\n",
    "def xgb_param_selection(X, y):\n",
    "    n_estimators = [150, 175, 200, 250, 300] \n",
    "    max_depth=[25, 35, 45, 50] \n",
    "    scale_pos_weight = [0.33] \n",
    "    learning_rate = [0.1]\n",
    "    objective = ['reg:logistic']\n",
    "    eval_metric = ['logloss']\n",
    "    sub_sample = [0.4, 0.5, 1]\n",
    "    min_child_weight = [0.4, 0.5, 1]\n",
    "    colsample_bytree = [0.3, 0.5, 0.7, 1]\n",
    "    param_grid = {'n_estimators': n_estimators, \n",
    "                  'max_depth' : max_depth,\n",
    "                  'scale_pos_weight':scale_pos_weight, \n",
    "                  'learning_rate': learning_rate,\n",
    "                  'objective':objective, \n",
    "                  'eval_metric':eval_metric,\n",
    "                  'colsample_bytree':colsample_bytree,\n",
    "                  'sub_sample':sub_sample,\n",
    "                  'min_child_weight': min_child_weight}\n",
    "    \n",
    "\n",
    "    boost = xgb(use_label_encoder=False)\n",
    "    grid_search = GridSearchCV(boost, param_grid, cv=3, n_jobs=-1,verbose=0)\n",
    "    grid_search.fit(X, y)\n",
    "    grid_search.best_params_\n",
    "    return grid_search,grid_search.best_params_\n",
    "\n",
    "start_time = time.time()\n",
    "xgb_model,xgb_best_prama = xgb_param_selection(x_train, y_train)\n",
    "execution_time = (time.time() - start_time)/60.0\n",
    "print(\"Training execution time (mins)\",execution_time)\n",
    "print('Best param of XGB',xgb_best_prama)\n",
    "print('Best score', xgb_model.best_score_)"
   ]
  },
  {
   "cell_type": "code",
   "execution_count": 30,
   "metadata": {
    "id": "0EnK545EiTQb"
   },
   "outputs": [],
   "source": [
    "# generate probabilities from meta model\n",
    "meta_model = xgb(eta=0.1, max_depth=25, n_estimators=150, objective='reg:logistic', \n",
    "            scale_pos_weight=0.33, min_child_weight=0.5, colsample_bytree=0.5, \n",
    "            sub_sample =0.4, random_state=42, eval_metric='logloss').fit(x_train, y_train)\n",
    "\n",
    "meta_probs = meta_model.predict_proba(x_val)[:, 1]"
   ]
  },
  {
   "cell_type": "code",
   "execution_count": 31,
   "metadata": {
    "colab": {
     "base_uri": "https://localhost:8080/"
    },
    "id": "RQ1rcXHHiTeN",
    "outputId": "e1c71c0d-a0f8-4688-dc94-1056b74f75e3"
   },
   "outputs": [
    {
     "name": "stdout",
     "output_type": "stream",
     "text": [
      "Optimal predict prob threshold: 0.863123\n"
     ]
    }
   ],
   "source": [
    "# calculating optimal threshold for stacked model\n",
    "meta_fpr, meta_tpr, thresholds = metrics.roc_curve(y_val, meta_probs) \n",
    "J = meta_tpr - meta_fpr \n",
    "ix = np.argmax(J)\n",
    "meta_opt_thresh = thresholds[ix]\n",
    "print('Optimal predict prob threshold: %f' % (meta_opt_thresh))"
   ]
  },
  {
   "cell_type": "code",
   "execution_count": 32,
   "metadata": {
    "colab": {
     "base_uri": "https://localhost:8080/"
    },
    "id": "-aVBDlATtKbD",
    "outputId": "562fef93-96b3-4923-de57-2df1d2df13a0"
   },
   "outputs": [
    {
     "name": "stdout",
     "output_type": "stream",
     "text": [
      "              precision    recall  f1-score   support\n",
      "\n",
      "           0       0.45      0.77      0.57       178\n",
      "           1       0.95      0.83      0.89       968\n",
      "\n",
      "    accuracy                           0.82      1146\n",
      "   macro avg       0.70      0.80      0.73      1146\n",
      "weighted avg       0.87      0.82      0.84      1146\n",
      "\n"
     ]
    }
   ],
   "source": [
    "# print classification report\n",
    "def thresh_pred(model, X, thresh):\n",
    "    return (model.predict_proba(X)[:,1] > thresh).astype(int)\n",
    "\n",
    "meta_preds = thresh_pred(meta_model, x_val, meta_opt_thresh)\n",
    "print(metrics.classification_report(y_val, meta_preds))"
   ]
  },
  {
   "cell_type": "code",
   "execution_count": 33,
   "metadata": {
    "colab": {
     "base_uri": "https://localhost:8080/"
    },
    "id": "PgRDsxUAiZz4",
    "outputId": "d3a6ce0d-ff88-4114-fb64-8aa17508df58"
   },
   "outputs": [
    {
     "name": "stdout",
     "output_type": "stream",
     "text": [
      "Accuracy score with updated stacked model  0.8202443280977313\n",
      "ROC AUC score with updated stacked model  0.7996041879468846\n",
      "Accuracy score with optimized XGBoost model  0.7347294938917975\n",
      "ROC AUC score with optimized XGBoost model  0.7810787909740923\n"
     ]
    }
   ],
   "source": [
    "# compare to optimized model; generate model on original dataset\n",
    "print(\"Accuracy score with updated stacked model \", accuracy_score(y_val, meta_preds))\n",
    "print(\"ROC AUC score with updated stacked model \", metrics.roc_auc_score(y_val, meta_preds))\n",
    "print(\"Accuracy score with optimized XGBoost model \", accuracy_score(y_val, preds))\n",
    "print(\"ROC AUC score with optimized XGBoost model \", metrics.roc_auc_score(y_val, preds))"
   ]
  },
  {
   "cell_type": "code",
   "execution_count": 34,
   "metadata": {
    "colab": {
     "base_uri": "https://localhost:8080/",
     "height": 349
    },
    "id": "7ImSVx4pCeke",
    "outputId": "9ce348ca-5e32-46f2-d889-d8fd1df88ded"
   },
   "outputs": [
    {
     "data": {
      "image/png": "[encoded data removed]",
      "text/plain": [
       "<Figure size 576x360 with 1 Axes>"
      ]
     },
     "metadata": {
      "needs_background": "light"
     },
     "output_type": "display_data"
    }
   ],
   "source": [
    "# compare ROC -- stacked model vs. XGBoost alone\n",
    "plt.figure(figsize=(8, 5))\n",
    "plt.plot(XGBoost_fpr, XGBoost_tpr, linestyle='--', label='optimized XGBoost')\n",
    "plt.plot(meta_fpr, meta_tpr, marker='.', label='stacked model(M=10)')\n",
    "plt.xlabel('False Positive Rate')\n",
    "plt.ylabel('True Positive Rate')\n",
    "plt.title(\"AUC of stacked model versus XGBoost model (using optimized thresholds)\")\n",
    "plt.legend()\n",
    "plt.show()"
   ]
  },
  {
   "cell_type": "markdown",
   "metadata": {
    "id": "4aGLuC_dCEKL"
   },
   "source": [
    "**Discussion**\n",
    "\n",
    "- We observe that our stacked model continues to have a higher AUC than the optimized XGBoost model. The stacked model (with 10 classifiers) has an AUC of 0.7996 versus XGBoost's 0.780. \n",
    "- The accuracy is likewise higher for the stacked model."
   ]
  },
  {
   "cell_type": "markdown",
   "metadata": {
    "id": "hcWpa_2O1LD1"
   },
   "source": [
    "### See feature importances for stack model(M=10)"
   ]
  },
  {
   "cell_type": "code",
   "execution_count": null,
   "metadata": {
    "id": "kcwZOchdVV-A"
   },
   "outputs": [],
   "source": [
    "fig, ax = plt.subplots(figsize=(20, 8))\n",
    "plot_importance(meta_model, ax=ax)\n",
    "\n",
    "plt.figure(figsize=(20, 8))\n",
    "plt.plot(range(len(meta_model.feature_importances_)), meta_model.feature_importances_)\n",
    "plt.show()"
   ]
  },
  {
   "cell_type": "markdown",
   "metadata": {
    "id": "JIK7xzOm79QV"
   },
   "source": [
    "**Discussion**\n",
    "- Feature 3 corresponds to the gradient boosting machine. This is the greatest contributor to the model based on the feature importances plot.\n",
    "- However, this takes the longset to train and the second best feature was contributed by the LDA model.\n",
    "- Therefore, to further improve the model, we will add 5 more LDAs and have a total of 15 models in our stacked model."
   ]
  },
  {
   "cell_type": "markdown",
   "metadata": {
    "id": "2eDalFvw1SZr"
   },
   "source": [
    "### Add 5 more LDA models (informed by feature importances plot)"
   ]
  },
  {
   "cell_type": "code",
   "execution_count": 24,
   "metadata": {
    "id": "H9-nz20d1YUD"
   },
   "outputs": [],
   "source": [
    "lda2 = LDA()\n",
    "lda3 = LDA()\n",
    "lda4 = LDA()\n",
    "lda5 = LDA()\n",
    "lda6 = LDA()"
   ]
  },
  {
   "cell_type": "code",
   "execution_count": 25,
   "metadata": {
    "id": "I_EI6Zfxmy9a"
   },
   "outputs": [],
   "source": [
    "lda2_oof_train, lda2_oof_val = get_oof(lda2, X_trainnp, y_trainnp, X_valnp) \n",
    "lda3_oof_train, lda3_oof_val = get_oof(lda3, X_trainnp, y_trainnp, X_valnp) \n",
    "lda4_oof_train, lda4_oof_val = get_oof(lda4, X_trainnp, y_trainnp, X_valnp) \n",
    "lda5_oof_train, lda5_oof_val = get_oof(lda5, X_trainnp, y_trainnp, X_valnp) \n",
    "lda6_oof_train, lda6_oof_val = get_oof(lda6, X_trainnp, y_trainnp, X_valnp) \n",
    "\n",
    "lda2_oof_X, lda2_oof_test = get_oof(lda2, Xnp, ynp, X_testnp) \n",
    "lda3_oof_X, lda3_oof_test = get_oof(lda3, Xnp, ynp, X_testnp) \n",
    "lda4_oof_X, lda4_oof_test = get_oof(lda4, Xnp, ynp, X_testnp) \n",
    "lda5_oof_X, lda5_oof_test = get_oof(lda5, Xnp, ynp, X_testnp) \n",
    "lda6_oof_X, lda6_oof_test = get_oof(lda6, Xnp, ynp, X_testnp) "
   ]
  },
  {
   "cell_type": "code",
   "execution_count": 26,
   "metadata": {
    "id": "T5xRAYdd9D0e"
   },
   "outputs": [],
   "source": [
    "x_train = np.concatenate((et_oof_train, rf_oof_train, ada_oof_train, gb_oof_train, svc_oof_train, knn_oof_train, lr_oof_train, nb_oof_train, mlp_oof_train, lda_oof_train, lda2_oof_train, lda3_oof_train, lda4_oof_train, lda5_oof_train, lda6_oof_train), axis=1)\n",
    "x_val = np.concatenate((et_oof_val, rf_oof_val, ada_oof_val, gb_oof_val, svc_oof_val, knn_oof_val, lr_oof_val, nb_oof_val, mlp_oof_val, lda_oof_val, lda2_oof_val, lda3_oof_val, lda4_oof_val, lda5_oof_val, lda6_oof_val), axis=1)\n",
    "\n",
    "x_ = np.concatenate((et_oof_X, rf_oof_X, ada_oof_X, gb_oof_X, svc_oof_X, knn_oof_X, lr_oof_X, nb_oof_X, mlp_oof_X, lda_oof_X, lda2_oof_X, lda3_oof_X, lda4_oof_X, lda5_oof_X, lda6_oof_X), axis=1)\n",
    "x_test = np.concatenate((et_oof_test, rf_oof_test, ada_oof_test, gb_oof_test, svc_oof_test, knn_oof_test, lr_oof_test, nb_oof_test, mlp_oof_test, lda_oof_test, lda2_oof_test, lda3_oof_test, lda4_oof_test, lda5_oof_test, lda6_oof_test), axis=1)"
   ]
  },
  {
   "cell_type": "code",
   "execution_count": 38,
   "metadata": {
    "id": "bFNVuuoM9rMC"
   },
   "outputs": [],
   "source": [
    "# generate probabilities from meta model\n",
    "meta_model = xgb(eta=0.1, max_depth=25, n_estimators=150, objective='reg:logistic', \n",
    "            scale_pos_weight=0.33, min_child_weight=0.5, colsample_bytree=0.5, \n",
    "            sub_sample =0.4, random_state=42, eval_metric='logloss').fit(x_train, y_train)\n",
    "\n",
    "meta_probs = meta_model.predict_proba(x_val)[:, 1]"
   ]
  },
  {
   "cell_type": "code",
   "execution_count": 39,
   "metadata": {
    "colab": {
     "base_uri": "https://localhost:8080/"
    },
    "id": "A8cN2TMEJa8P",
    "outputId": "ab9e340a-8caf-4307-8237-efddae03ae59"
   },
   "outputs": [
    {
     "name": "stdout",
     "output_type": "stream",
     "text": [
      "Optimal predict prob threshold: 0.829333\n"
     ]
    }
   ],
   "source": [
    "# calculating optimal threshold for stacked model\n",
    "meta_fpr, meta_tpr, thresholds = metrics.roc_curve(y_val, meta_probs) \n",
    "J = meta_tpr - meta_fpr \n",
    "ix = np.argmax(J)\n",
    "meta_opt_thresh = thresholds[ix]\n",
    "print('Optimal predict prob threshold: %f' % (meta_opt_thresh))"
   ]
  },
  {
   "cell_type": "code",
   "execution_count": 40,
   "metadata": {
    "colab": {
     "base_uri": "https://localhost:8080/"
    },
    "id": "ko4zZRrhM0ej",
    "outputId": "72501182-c2fb-4e3c-ae96-a3e08305573d"
   },
   "outputs": [
    {
     "name": "stdout",
     "output_type": "stream",
     "text": [
      "              precision    recall  f1-score   support\n",
      "\n",
      "           0       0.47      0.75      0.58       178\n",
      "           1       0.95      0.85      0.90       968\n",
      "\n",
      "    accuracy                           0.83      1146\n",
      "   macro avg       0.71      0.80      0.74      1146\n",
      "weighted avg       0.87      0.83      0.85      1146\n",
      "\n"
     ]
    }
   ],
   "source": [
    "# print classification report\n",
    "def thresh_pred(model, X, thresh):\n",
    "    return (model.predict_proba(X)[:,1] > thresh).astype(int)\n",
    "\n",
    "meta_preds = thresh_pred(meta_model, x_val, meta_opt_thresh)\n",
    "print(metrics.classification_report(y_val, meta_preds))"
   ]
  },
  {
   "cell_type": "code",
   "execution_count": 41,
   "metadata": {
    "colab": {
     "base_uri": "https://localhost:8080/"
    },
    "id": "ID_6XkqvNFUC",
    "outputId": "07adcfd1-8702-41ec-a1ae-65c5a70666c1"
   },
   "outputs": [
    {
     "name": "stdout",
     "output_type": "stream",
     "text": [
      "Accuracy score with updated stacked model  0.8324607329842932\n",
      "ROC AUC score with updated stacked model  0.7976657535518618\n",
      "Accuracy score with optimized XGBoost model  0.7347294938917975\n",
      "ROC AUC score with optimized XGBoost model  0.7810787909740923\n"
     ]
    }
   ],
   "source": [
    "# compare to optimized model; generate model on original dataset\n",
    "print(\"Accuracy score with updated stacked model \", accuracy_score(y_val, meta_preds))\n",
    "print(\"ROC AUC score with updated stacked model \", metrics.roc_auc_score(y_val, meta_preds))\n",
    "print(\"Accuracy score with optimized XGBoost model \", accuracy_score(y_val, preds))\n",
    "print(\"ROC AUC score with optimized XGBoost model \", metrics.roc_auc_score(y_val, preds))"
   ]
  },
  {
   "cell_type": "code",
   "execution_count": 42,
   "metadata": {
    "colab": {
     "base_uri": "https://localhost:8080/",
     "height": 349
    },
    "id": "ObaNl5YjM6yz",
    "outputId": "d8385e4a-f7c4-4424-a85b-46035024c0eb"
   },
   "outputs": [
    {
     "data": {
      "image/png": "[encoded data removed]",
      "text/plain": [
       "<Figure size 576x360 with 1 Axes>"
      ]
     },
     "metadata": {
      "needs_background": "light"
     },
     "output_type": "display_data"
    }
   ],
   "source": [
    "# compare ROC -- stacked model vs. XGBoost alone\n",
    "plt.figure(figsize=(8, 5))\n",
    "plt.plot(XGBoost_fpr, XGBoost_tpr, linestyle='--', label='optimized XGBoost')\n",
    "plt.plot(meta_fpr, meta_tpr, marker='.', label='stacked model(M=15)')\n",
    "plt.xlabel('False Positive Rate')\n",
    "plt.ylabel('True Positive Rate')\n",
    "plt.title(\"AUC of stacked model versus XGBoost model (using optimized thresholds)\")\n",
    "plt.legend()\n",
    "plt.show()"
   ]
  },
  {
   "cell_type": "code",
   "execution_count": 43,
   "metadata": {
    "colab": {
     "base_uri": "https://localhost:8080/",
     "height": 511
    },
    "id": "WQSscRQIPPJ2",
    "outputId": "cdd17a78-a3b1-4436-fa7e-610ac536efe5"
   },
   "outputs": [
    {
     "data": {
      "image/png": "[encoded data removed]",
      "text/plain": [
       "<Figure size 1440x576 with 1 Axes>"
      ]
     },
     "metadata": {
      "needs_background": "light"
     },
     "output_type": "display_data"
    }
   ],
   "source": [
    "fig, ax = plt.subplots(figsize=(20, 8))\n",
    "plot_importance(meta_model, ax=ax);"
   ]
  },
  {
   "cell_type": "markdown",
   "metadata": {
    "id": "60fDyxGtNLAe"
   },
   "source": [
    "**Discussion**\n",
    "- Adding 5 LDA models did not substantially improve the model\n",
    "- The AUC went from 0.7996 to 0.798; however, the accuracy did improve from 0.82 to 0.83\n",
    "- f0 contributed significantly. This is ET.\n",
    "- We will try adding 5 more of those.\n"
   ]
  },
  {
   "cell_type": "markdown",
   "metadata": {
    "id": "Qp-tQF_iP0eH"
   },
   "source": [
    "### Add 5 more ET models"
   ]
  },
  {
   "cell_type": "code",
   "execution_count": 44,
   "metadata": {
    "id": "489wQqXUM_FT"
   },
   "outputs": [],
   "source": [
    "et2 = ExtraTreesClassifier(n_estimators = 500, criterion ='entropy', max_features = 8)\n",
    "et3 = ExtraTreesClassifier(n_estimators = 500, criterion ='entropy', max_features = 8)\n",
    "et4 = ExtraTreesClassifier(n_estimators = 500, criterion ='entropy', max_features = 8)\n",
    "et5 = ExtraTreesClassifier(n_estimators = 500, criterion ='entropy', max_features = 8)\n",
    "et6 = ExtraTreesClassifier(n_estimators = 500, criterion ='entropy', max_features = 8)"
   ]
  },
  {
   "cell_type": "code",
   "execution_count": 45,
   "metadata": {
    "id": "6KorLLMbP-kF"
   },
   "outputs": [],
   "source": [
    "et2_oof_train, et2_oof_val = get_oof(et2, X_trainnp, y_trainnp, X_valnp) \n",
    "et3_oof_train, et3_oof_val = get_oof(et3, X_trainnp, y_trainnp, X_valnp) \n",
    "et4_oof_train, et4_oof_val = get_oof(et4, X_trainnp, y_trainnp, X_valnp) \n",
    "et5_oof_train, et5_oof_val = get_oof(et5, X_trainnp, y_trainnp, X_valnp) \n",
    "et6_oof_train, et6_oof_val = get_oof(et6, X_trainnp, y_trainnp, X_valnp)\n",
    "\n",
    "et2_oof_X, et2_oof_test = get_oof(et2, Xnp, ynp, X_testnp) \n",
    "et3_oof_X, et3_oof_test = get_oof(et3, Xnp, ynp, X_testnp) \n",
    "et4_oof_X, et4_oof_test = get_oof(et4, Xnp, ynp, X_testnp) \n",
    "et5_oof_X, et5_oof_test = get_oof(et5, Xnp, ynp, X_testnp) \n",
    "et6_oof_X, et6_oof_test = get_oof(et6, Xnp, ynp, X_testnp)"
   ]
  },
  {
   "cell_type": "code",
   "execution_count": 47,
   "metadata": {
    "id": "EWNlp9S2P-9y"
   },
   "outputs": [],
   "source": [
    "x_train = np.concatenate(( et_oof_train, rf_oof_train, ada_oof_train, gb_oof_train, svc_oof_train, knn_oof_train, lr_oof_train, nb_oof_train, mlp_oof_train, lda_oof_train, lda2_oof_train, lda3_oof_train, lda4_oof_train, lda5_oof_train, lda6_oof_train, et2_oof_train, et3_oof_train, et4_oof_train, et5_oof_train, et6_oof_train), axis=1)\n",
    "x_val = np.concatenate(( et_oof_val, rf_oof_val, ada_oof_val, gb_oof_val, svc_oof_val, knn_oof_val, lr_oof_val, nb_oof_val, mlp_oof_val, lda_oof_val, lda2_oof_val, lda3_oof_val, lda4_oof_val, lda5_oof_val, lda6_oof_val, et2_oof_val, et3_oof_val, et4_oof_val, et5_oof_val, et6_oof_val), axis=1)\n",
    "\n",
    "x_ = np.concatenate(( et_oof_X, rf_oof_X, ada_oof_X, gb_oof_X, svc_oof_X, knn_oof_X, lr_oof_X, nb_oof_X, mlp_oof_X, lda_oof_X, lda2_oof_X, lda3_oof_X, lda4_oof_X, lda5_oof_X, lda6_oof_X, et2_oof_X, et3_oof_X, et4_oof_X, et5_oof_X, et6_oof_X), axis=1)\n",
    "x_test = np.concatenate(( et_oof_test, rf_oof_test, ada_oof_test, gb_oof_test, svc_oof_test, knn_oof_test, lr_oof_test, nb_oof_test, mlp_oof_test, lda_oof_test, lda2_oof_test, lda3_oof_test, lda4_oof_test, lda5_oof_test, lda6_oof_test, et2_oof_test, et3_oof_test, et4_oof_test, et5_oof_test, et6_oof_test), axis=1)"
   ]
  },
  {
   "cell_type": "code",
   "execution_count": 48,
   "metadata": {
    "id": "opCyFDdKQdAx"
   },
   "outputs": [],
   "source": [
    "# generate probabilities from meta model\n",
    "meta_model = xgb(eta=0.1, max_depth=25, n_estimators=150, objective='reg:logistic', \n",
    "            scale_pos_weight=0.33, min_child_weight=0.5, colsample_bytree=0.5, \n",
    "            sub_sample =0.4, random_state=42, eval_metric='logloss').fit(x_train, y_train)\n",
    "\n",
    "meta_probs = meta_model.predict_proba(x_val)[:, 1]"
   ]
  },
  {
   "cell_type": "code",
   "execution_count": 49,
   "metadata": {
    "colab": {
     "base_uri": "https://localhost:8080/"
    },
    "id": "DB-o4yWfQlTB",
    "outputId": "65ba63a6-1ac8-459a-d9c0-7dc498eae54b"
   },
   "outputs": [
    {
     "name": "stdout",
     "output_type": "stream",
     "text": [
      "Optimal predict prob threshold: 0.933669\n"
     ]
    }
   ],
   "source": [
    "# calculating optimal threshold for stacked model\n",
    "meta_fpr, meta_tpr, thresholds = metrics.roc_curve(y_val, meta_probs) \n",
    "J = meta_tpr - meta_fpr \n",
    "ix = np.argmax(J)\n",
    "meta_opt_thresh = thresholds[ix]\n",
    "print('Optimal predict prob threshold: %f' % (meta_opt_thresh))"
   ]
  },
  {
   "cell_type": "code",
   "execution_count": 50,
   "metadata": {
    "colab": {
     "base_uri": "https://localhost:8080/"
    },
    "id": "KnwXwAuDQpaM",
    "outputId": "4dcc1def-19bb-462c-f535-0bd4baa6f9c3"
   },
   "outputs": [
    {
     "name": "stdout",
     "output_type": "stream",
     "text": [
      "              precision    recall  f1-score   support\n",
      "\n",
      "           0       0.40      0.83      0.54       178\n",
      "           1       0.96      0.77      0.86       968\n",
      "\n",
      "    accuracy                           0.78      1146\n",
      "   macro avg       0.68      0.80      0.70      1146\n",
      "weighted avg       0.87      0.78      0.81      1146\n",
      "\n"
     ]
    }
   ],
   "source": [
    "# print classification report\n",
    "def thresh_pred(model, X, thresh):\n",
    "    return (model.predict_proba(X)[:,1] > thresh).astype(int)\n",
    "\n",
    "meta_preds = thresh_pred(meta_model, x_val, meta_opt_thresh)\n",
    "print(metrics.classification_report(y_val, meta_preds))"
   ]
  },
  {
   "cell_type": "code",
   "execution_count": 51,
   "metadata": {
    "colab": {
     "base_uri": "https://localhost:8080/"
    },
    "id": "r-wyfHu-Qtig",
    "outputId": "0cfdc02e-fee1-4775-e7d2-687bbecf5822"
   },
   "outputs": [
    {
     "name": "stdout",
     "output_type": "stream",
     "text": [
      "Accuracy score with updated stacked model  0.7818499127399651\n",
      "ROC AUC score with updated stacked model  0.799801513603863\n"
     ]
    }
   ],
   "source": [
    "print(\"Accuracy score with updated stacked model \", accuracy_score(y_val, meta_preds))\n",
    "print(\"ROC AUC score with updated stacked model \", metrics.roc_auc_score(y_val, meta_preds))"
   ]
  },
  {
   "cell_type": "markdown",
   "metadata": {
    "id": "rUVFyHOyRE2V"
   },
   "source": [
    "**Discussion**\n",
    "- No notable difference for this model. We will go with the previous model."
   ]
  },
  {
   "cell_type": "markdown",
   "metadata": {
    "id": "IkRNh_5faHn1"
   },
   "source": [
    "## Stacked model on kaggle leaderboard\n",
    "\n",
    "15 stacked models. Extra trees, Adaboost, SVC, Gradient boosting machine, random forest, logistic regression, knn, naive bayes, mlp, and 5 lda models. "
   ]
  },
  {
   "cell_type": "code",
   "execution_count": 27,
   "metadata": {
    "id": "FUdvWoOaUd2F"
   },
   "outputs": [],
   "source": [
    "x_train = np.concatenate((et_oof_train, rf_oof_train, ada_oof_train, gb_oof_train, svc_oof_train, knn_oof_train, lr_oof_train, nb_oof_train, mlp_oof_train, lda_oof_train, lda2_oof_train, lda3_oof_train, lda4_oof_train, lda5_oof_train, lda6_oof_train), axis=1)\n",
    "x_val = np.concatenate((et_oof_val, rf_oof_val, ada_oof_val, gb_oof_val, svc_oof_val, knn_oof_val, lr_oof_val, nb_oof_val, mlp_oof_val, lda_oof_val, lda2_oof_val, lda3_oof_val, lda4_oof_val, lda5_oof_val, lda6_oof_val), axis=1)\n",
    "\n",
    "x_ = np.concatenate((et_oof_X, rf_oof_X, ada_oof_X, gb_oof_X, svc_oof_X, knn_oof_X, lr_oof_X, nb_oof_X, mlp_oof_X, lda_oof_X, lda2_oof_X, lda3_oof_X, lda4_oof_X, lda5_oof_X, lda6_oof_X), axis=1)\n",
    "x_test = np.concatenate((et_oof_test, rf_oof_test, ada_oof_test, gb_oof_test, svc_oof_test, knn_oof_test, lr_oof_test, nb_oof_test, mlp_oof_test, lda_oof_test, lda2_oof_test, lda3_oof_test, lda4_oof_test, lda5_oof_test, lda6_oof_test), axis=1)"
   ]
  },
  {
   "cell_type": "code",
   "execution_count": 31,
   "metadata": {
    "id": "GK_NdmGiXdt2"
   },
   "outputs": [],
   "source": [
    "kaggle_model = xgb(eta=0.1, max_depth=25, n_estimators=150, objective='reg:logistic', \n",
    "            scale_pos_weight=0.33, min_child_weight=0.5, colsample_bytree=0.5, \n",
    "            sub_sample =0.4, random_state=42, eval_metric='logloss').fit(x_, y)\n",
    "\n",
    "meta_probs = kaggle_model.predict_proba(x_test)[:, 1]\n",
    "\n",
    "submission_df = pd.DataFrame()\n",
    "submission_df['id'] = range(0,len(test))\n",
    "submission_df['output'] = np.where(meta_probs>0.82933,1,0)\n",
    "\n",
    "submission_df['output'].value_counts()\n",
    "submission_df.to_csv('submission_MS2.csv',index=False)\n",
    "!cp submission_MS2.csv \"drive/My Drive/\""
   ]
  },
  {
   "cell_type": "markdown",
   "metadata": {
    "id": "RT72MAqxtaP8"
   },
   "source": [
    "### Kaggle LB score submitting classifications (optimal threshold): 0.58827"
   ]
  },
  {
   "cell_type": "markdown",
   "metadata": {
    "id": "q--Uw1BXta-f"
   },
   "source": [
    "### Kaggle LB score submitting probabilities: 0.64981\n",
    "\n"
   ]
  },
  {
   "cell_type": "markdown",
   "metadata": {
    "id": "Iy4moVM-Y6an"
   },
   "source": [
    "# V. XGBoost round 2\n",
    "\n",
    "We changed how we processed the feature set.\n",
    "\n",
    "Then we ran an optimized XGboost model on this revised feature set.\n",
    "\n",
    "Our final model to kaggle is just an XGboost model on this feature set. This performed better than our stacked models."
   ]
  },
  {
   "cell_type": "markdown",
   "metadata": {
    "id": "Bmp0MYijuNyx"
   },
   "source": [
    "### Pre-processing the feature set differently"
   ]
  },
  {
   "cell_type": "code",
   "execution_count": 32,
   "metadata": {
    "id": "lfXao0w88QSH"
   },
   "outputs": [],
   "source": [
    "def normalize(data):\n",
    "    scaler = MinMaxScaler()\n",
    "    return scaler.fit_transform(data.values),scaler\n",
    "\n",
    "def apply_kmean(data,features,n_clusters):\n",
    "    data_features,scaler = normalize(data[features])\n",
    "    kmeans = KMeans(n_clusters=n_clusters, max_iter=1000).fit(data_features)\n",
    "    return kmeans.labels_,kmeans,scaler\n",
    "\n",
    "def create_feat(train,test):\n",
    "    \n",
    "    # Extract the column which has only one value\n",
    "    one_value_col=[]\n",
    "    for col in train.columns:\n",
    "        if train[col].nunique() ==1:\n",
    "            #print(train_data[col].nunique())\n",
    "            one_value_col.append(col)\n",
    "\n",
    "    # drop all columns which has only one value\n",
    "    train = train.drop(columns=one_value_col,axis=1,errors='ignore')\n",
    "    test = test.drop(columns=one_value_col,axis=1,errors='ignore')\n",
    "\n",
    "    # drop columns which have bad distribution \n",
    "    drop_col = ['x2','x3','x40','x47','x101','x102','x118',\n",
    "                'y2','y3','y40','y46','y47','y102','y117','y118',\n",
    "                'z2','z3','z46','z47','z102','z117','z118','z119']+\\\n",
    "                ['x45','x46','x115','x116','x117',\n",
    "                 'y41','y45','y101','y116','z41','z101']\n",
    "    \n",
    "    \n",
    "    train = train.drop(columns=drop_col,axis=1,errors='ignore')\n",
    "    test = test.drop(columns=drop_col,axis=1,errors='ignore')\n",
    "    \n",
    "    cat_col=[]\n",
    "    for col in train.columns:\n",
    "        if train[col].nunique() <= 11  and \\\n",
    "            col not in one_value_col and \\\n",
    "            col != 'output' and \\\n",
    "            col not in drop_col :\n",
    "            #print(train_data[col].nunique())\n",
    "            cat_col.append(col)\n",
    "\n",
    "    numeric_feat = list(set(train.columns)-set(cat_col+['output']))\n",
    "    \n",
    "    train['all_clusters'],kmeans,scaler = apply_kmean(train,numeric_feat,n_clusters=5)\n",
    "    test['all_clusters'] = kmeans.predict(scaler.transform(test[numeric_feat]))\n",
    "    \n",
    "    x_features = [feat for feat in numeric_feat if 'x' in feat]\n",
    "    y_features = [feat for feat in numeric_feat if 'y' in feat]\n",
    "    z_features = [feat for feat in numeric_feat if 'z' in feat]\n",
    "    \n",
    "    # Define cluster for x,y and z features\n",
    "    print('cluster')\n",
    "    train['x_clusters'],x_kmeans,x_scaler = apply_kmean(train,x_features,n_clusters=5)\n",
    "    train['y_clusters'],y_kmeans,y_scaler = apply_kmean(train,y_features,n_clusters=5)\n",
    "    train['z_clusters'],z_kmeans,z_scaler = apply_kmean(train,z_features,n_clusters=5)\n",
    "    \n",
    "    test['x_clusters'] = x_kmeans.predict(x_scaler.transform(test[x_features]))\n",
    "    test['y_clusters'] = y_kmeans.predict(y_scaler.transform(test[y_features]))\n",
    "    test['z_clusters'] = z_kmeans.predict(z_scaler.transform(test[z_features]))\n",
    "    \n",
    "    #train['x_y_clusters'] = train['x_clusters'].astype('str')+'_'+train['y_clusters'].astype('str')\n",
    "    #train['x_z_clusters'] = train['x_clusters'].astype('str')+'_'+train['z_clusters'].astype('str')\n",
    "    #train['z_y_clusters'] = train['z_clusters'].astype('str')+'_'+train['y_clusters'].astype('str')\n",
    "    #train['x_y_z_clusters'] = train['x_clusters'].astype('str')+'_'+train['y_clusters'].astype('str')+'_'+train['z_clusters'].astype('str')\n",
    "    \n",
    "    #test['x_y_clusters'] = test['x_clusters'].astype('str')+'_'+test['y_clusters'].astype('str')\n",
    "    #test['x_z_clusters'] = test['x_clusters'].astype('str')+'_'+test['z_clusters'].astype('str')\n",
    "    #test['z_y_clusters'] = test['z_clusters'].astype('str')+'_'+test['y_clusters'].astype('str')\n",
    "    #test['x_y_z_clusters'] = test['x_clusters'].astype('str')+'_'+test['y_clusters'].astype('str')+'_'+test['z_clusters'].astype('str')\n",
    "\n",
    "    cluster_cols = ['x_clusters','y_clusters','z_clusters','all_clusters']\n",
    "                  #'x_y_clusters','x_z_clusters','z_y_clusters',\n",
    "                  #'x_y_z_clusters']\n",
    "    train = pd.get_dummies(train,columns=cluster_cols)\n",
    "    test = pd.get_dummies(test,columns=cluster_cols)\n",
    "    \n",
    "    \n",
    "    #PCA\n",
    "    print('pca')\n",
    "    \n",
    "    pca_scaler = StandardScaler()\n",
    "    \n",
    "    pca_scaler_x = StandardScaler()\n",
    "    pca_scaler_y = StandardScaler()\n",
    "    pca_scaler_z = StandardScaler()\n",
    "    \n",
    "    a = pca_scaler.fit_transform(train[numeric_feat])\n",
    "    \n",
    "    x = pca_scaler_x.fit_transform(train[x_features])\n",
    "    y = pca_scaler_y.fit_transform(train[y_features])\n",
    "    z = pca_scaler_z.fit_transform(train[z_features])\n",
    "    \n",
    "    a_t = pca_scaler.fit_transform(test[numeric_feat])\n",
    "    \n",
    "    x_t = pca_scaler_x.transform(test[x_features])\n",
    "    y_t = pca_scaler_y.transform(test[y_features])\n",
    "    z_t = pca_scaler_z.transform(test[z_features])\n",
    "    \n",
    "    a_pca = PCA(n_components=3).fit(a)\n",
    "    \n",
    "    x_pca = PCA(n_components=3).fit(x)\n",
    "    y_pca = PCA(n_components=3).fit(y)\n",
    "    z_pca = PCA(n_components=3).fit(z)\n",
    "    \n",
    "    train[['pca1','pca2','pca3']] = a_pca.transform(a)\n",
    "    test[['pca1','pca2','pca3']] = a_pca.transform(a_t)\n",
    "    \n",
    "    train[['x_pca1','x_pca2','x_pca3']] = x_pca.transform(x)\n",
    "    test[['x_pca1','x_pca2','x_pca3']] = x_pca.transform(x_t)\n",
    "    \n",
    "    train[['y_pca1','y_pca2','y_pca3']] = y_pca.transform(y)\n",
    "    test[['y_pca1','y_pca2','y_pca3']] = y_pca.transform(y_t)\n",
    "    \n",
    "    train[['z_pca1','z_pca2','z_pca3']] = z_pca.transform(z)\n",
    "    test[['z_pca1','z_pca2','z_pca3']] = z_pca.transform(z_t)\n",
    "    \n",
    "    #t-sne\n",
    "#     print('t-sne')\n",
    "#     train['type'] = 'train'\n",
    "#     test['type'] = 'test'\n",
    "\n",
    "#     tsne_df = pd.concat([train[x_features+y_features+z_features+['type']],test[x_features+y_features+z_features+['type']]],axis=0)\n",
    "#     tsne_df[['x_tsne1','x_tsne2','x_tsne3']] = TSNE(n_components=3).fit_transform(tsne_df[x_features])\n",
    "#     tsne_df[['y_tsne1','y_tsne2','y_tsne3']] = TSNE(n_components=3).fit_transform(tsne_df[y_features])\n",
    "#     tsne_df[['z_tsne1','z_tsne2','z_tsne3']] = TSNE(n_components=3).fit_transform(tsne_df[z_features])\n",
    "\n",
    "\n",
    "#     train[['x_tsne1','x_tsne2','x_tsne3']] = tsne_df[tsne_df.type=='train'][['x_tsne1','x_tsne2','x_tsne3']].reset_index()\n",
    "#     test[['x_tsne1','x_tsne2','x_tsne3']] = tsne_df[tsne_df.type=='test'][['x_tsne1','x_tsne2','x_tsne3']].reset_index()\n",
    "\n",
    "#     train[['y_tsne1','y_tsne2','y_tsne3']] = tsne_df[tsne_df.type=='train'][['y_tsne1','y_tsne2','y_tsne3']].reset_index()\n",
    "#     test[['y_tsne1','y_tsne2','y_tsne3']] = tsne_df[tsne_df.type=='test'][['y_tsne1','y_tsne2','y_tsne3']].reset_index()\n",
    "\n",
    "#     train[['z_tsne1','z_tsne2','z_tsne3']] = tsne_df[tsne_df.type=='train'][['z_tsne1','z_tsne2','z_tsne3']].reset_index()\n",
    "#     test[['z_tsne1','z_tsne2','z_tsne3']] = tsne_df[tsne_df.type=='test'][['z_tsne1','z_tsne2','z_tsne3']].reset_index()\n",
    "\n",
    "#     train = train.drop(columns=['type'],axis=1)\n",
    "#     test = test.drop(columns=['type'],axis=1)\n",
    "\n",
    "    # combine features\n",
    "    print('combine cat feat')\n",
    "    train['subject_phase'] = train['subject']+'_'+train['phase'].astype('str')\n",
    "    train['subject_state'] = train['subject']+'_'+train['state']\n",
    "    train['state_phase'] = train['state']+'_'+train['phase'].astype('str')\n",
    "    train['subject_phase_state'] = train['subject']+'_'+train['phase'].astype('str')+'_'+train['state']\n",
    "    \n",
    "    test['subject_phase'] = test['subject']+'_'+test['phase'].astype('str')\n",
    "    test['subject_state'] = test['subject']+'_'+test['state']\n",
    "    test['state_phase'] = test['state']+'_'+test['phase'].astype('str')\n",
    "    test['subject_phase_state'] = test['subject']+'_'+test['phase'].astype('str')+'_'+test['state']\n",
    "    \n",
    "    # one hot col\n",
    "    new_cols = ['subject_phase','subject_state','state_phase','subject_phase_state']\n",
    "    \n",
    "    train = pd.get_dummies(train,columns=new_cols)\n",
    "    test = pd.get_dummies(test,columns=new_cols)\n",
    "    \n",
    "    # apply one hot encoding \n",
    "    train = pd.get_dummies(train,columns=cat_col)\n",
    "    test = pd.get_dummies(test,columns=cat_col)\n",
    "\n",
    "    test['output']=-99\n",
    "    \n",
    "    test[list(set(train.columns)-set(test.columns))]=0\n",
    "    \n",
    "    return train,test"
   ]
  },
  {
   "cell_type": "code",
   "execution_count": 33,
   "metadata": {
    "colab": {
     "base_uri": "https://localhost:8080/"
    },
    "id": "ErQuOsXc8RDb",
    "outputId": "d272c603-6997-461b-948e-9da865e26b73"
   },
   "outputs": [
    {
     "name": "stdout",
     "output_type": "stream",
     "text": [
      "cluster\n",
      "pca\n",
      "combine cat feat\n"
     ]
    }
   ],
   "source": [
    "train,test = create_feat(train_data,test_data)"
   ]
  },
  {
   "cell_type": "code",
   "execution_count": 34,
   "metadata": {
    "colab": {
     "base_uri": "https://localhost:8080/"
    },
    "id": "GIL-5WIe8RWU",
    "outputId": "74b260c7-2350-4008-d972-f7c409424ae5"
   },
   "outputs": [
    {
     "name": "stdout",
     "output_type": "stream",
     "text": [
      "train shape : (4584, 870) | test shape : (1732, 913)\n"
     ]
    }
   ],
   "source": [
    "print(f'train shape : {train.shape} | test shape : {test.shape}')"
   ]
  },
  {
   "cell_type": "code",
   "execution_count": 35,
   "metadata": {
    "colab": {
     "base_uri": "https://localhost:8080/"
    },
    "id": "5EA8_HZm8Rmb",
    "outputId": "7b2e8882-a6de-4c00-b6c2-757a4c4c8c5e"
   },
   "outputs": [
    {
     "name": "stdout",
     "output_type": "stream",
     "text": [
      "(3667, 869) (917, 869) (3667,) (917,)\n"
     ]
    }
   ],
   "source": [
    "X = train.drop(columns=['output'])\n",
    "y = train['output']\n",
    "X_train,X_val,y_train,y_val = train_test_split(X,y,test_size=0.2,stratify=y)\n",
    "\n",
    "print(X_train.shape,X_val.shape,y_train.shape,y_val.shape)"
   ]
  },
  {
   "cell_type": "code",
   "execution_count": 36,
   "metadata": {
    "id": "8RQfs4iO8R4L"
   },
   "outputs": [],
   "source": [
    "extra_tree_forest = ExtraTreesClassifier(n_estimators = 500,\n",
    "                                        criterion ='entropy', max_features = 8)\n",
    "# Training the model\n",
    "extra_tree_forest.fit(X, y)\n",
    "  \n",
    "# Computing the importance of each feature\n",
    "feature_importance = extra_tree_forest.feature_importances_\n",
    "  \n",
    "# Normalizing the individual importances\n",
    "feature_importance_normalized = np.std([tree.feature_importances_ for tree in \n",
    "                                        extra_tree_forest.estimators_],\n",
    "                                        axis = 0)"
   ]
  },
  {
   "cell_type": "code",
   "execution_count": 37,
   "metadata": {
    "colab": {
     "base_uri": "https://localhost:8080/",
     "height": 201
    },
    "id": "x-Xg02Qy8SLm",
    "outputId": "58be5b5a-855c-40af-a70e-09b92dbfe1ec"
   },
   "outputs": [
    {
     "data": {
      "text/html": [
       "<div>\n",
       "<style scoped>\n",
       "    .dataframe tbody tr th:only-of-type {\n",
       "        vertical-align: middle;\n",
       "    }\n",
       "\n",
       "    .dataframe tbody tr th {\n",
       "        vertical-align: top;\n",
       "    }\n",
       "\n",
       "    .dataframe thead th {\n",
       "        text-align: right;\n",
       "    }\n",
       "</style>\n",
       "<table border=\"1\" class=\"dataframe\">\n",
       "  <thead>\n",
       "    <tr style=\"text-align: right;\">\n",
       "      <th></th>\n",
       "      <th>feat</th>\n",
       "      <th>score</th>\n",
       "    </tr>\n",
       "  </thead>\n",
       "  <tbody>\n",
       "    <tr>\n",
       "      <th>854</th>\n",
       "      <td>subject_G</td>\n",
       "      <td>0.023124</td>\n",
       "    </tr>\n",
       "    <tr>\n",
       "      <th>601</th>\n",
       "      <td>subject_state_G_C</td>\n",
       "      <td>0.008742</td>\n",
       "    </tr>\n",
       "    <tr>\n",
       "      <th>575</th>\n",
       "      <td>subject_phase_M_2</td>\n",
       "      <td>0.008490</td>\n",
       "    </tr>\n",
       "    <tr>\n",
       "      <th>857</th>\n",
       "      <td>subject_K</td>\n",
       "      <td>0.008146</td>\n",
       "    </tr>\n",
       "    <tr>\n",
       "      <th>556</th>\n",
       "      <td>subject_phase_G_1</td>\n",
       "      <td>0.006729</td>\n",
       "    </tr>\n",
       "  </tbody>\n",
       "</table>\n",
       "</div>"
      ],
      "text/plain": [
       "                  feat     score\n",
       "854          subject_G  0.023124\n",
       "601  subject_state_G_C  0.008742\n",
       "575  subject_phase_M_2  0.008490\n",
       "857          subject_K  0.008146\n",
       "556  subject_phase_G_1  0.006729"
      ]
     },
     "execution_count": 37,
     "metadata": {},
     "output_type": "execute_result"
    }
   ],
   "source": [
    "imp_feat_df = pd.DataFrame(columns=['feat','score'])\n",
    "imp_feat_df['feat'] = X.columns\n",
    "imp_feat_df['score'] = feature_importance_normalized\n",
    "\n",
    "imp_feat_df = imp_feat_df.sort_values(by=['score'],ascending=False)\n",
    "imp_feat_df.head()"
   ]
  },
  {
   "cell_type": "code",
   "execution_count": 38,
   "metadata": {
    "colab": {
     "base_uri": "https://localhost:8080/",
     "height": 295
    },
    "id": "g-42Oga18Seg",
    "outputId": "bc1f59d8-2ee7-46ab-d13b-b9c20c094331"
   },
   "outputs": [
    {
     "data": {
      "image/png": "[encoded data removed]",
      "text/plain": [
       "<Figure size 432x288 with 1 Axes>"
      ]
     },
     "metadata": {
      "needs_background": "light"
     },
     "output_type": "display_data"
    }
   ],
   "source": [
    "# Plotting a Bar Graph to compare the models\n",
    "\n",
    "plt.bar(imp_feat_df['feat'].head(10),imp_feat_df['score'].head(10) )\n",
    "plt.xlabel('Feature Labels')\n",
    "plt.ylabel('Feature Importances')\n",
    "plt.title('Comparison of different Feature Importances')\n",
    "plt.show()"
   ]
  },
  {
   "cell_type": "markdown",
   "metadata": {
    "id": "nXBnE2KLvqlZ"
   },
   "source": [
    "### Get important features\n",
    "\n",
    "We grab the important features which came from ExtraTreeClassifier and get top 100 numeric features from it"
   ]
  },
  {
   "cell_type": "code",
   "execution_count": 79,
   "metadata": {
    "id": "AQA1P23L8SyV"
   },
   "outputs": [],
   "source": [
    "imp_feat = imp_feat_df\n",
    "\n",
    "imp_feat_l = imp_feat['feat']\n",
    "\n",
    "cat_feat= ['subject','phase','state']\n",
    "\n",
    "imp_feat_list = [f for f in imp_feat_l if ('x' in f or 'y' in f or 'z' in f) and ('pca' not in f) ][:100]\n",
    "\n",
    "final_feat_list = cat_feat + imp_feat_list\n",
    "\n",
    "train_data = train_data[final_feat_list+['output']]\n",
    "test_data = test_data[final_feat_list]"
   ]
  },
  {
   "cell_type": "markdown",
   "metadata": {
    "id": "W9ANV4HBv-eB"
   },
   "source": [
    "### Prepare data for XGBoost\n",
    "- Create new features from the existing features:\n",
    "    * Apply kmean clustering on all numerical features with 5 clusters to get all cluster features.\n",
    "    * Apply kmean clustering on x, y and z features individual with 5 clusters each and get the x_clusters, y_cluster & z_clusters as new features.\n",
    "    * Apply pca on all features with 3 PCA and get the three new features\n",
    "    * Apply pca on all three type of features x, y & z individual with three PCA for each and get total 9 features.\n",
    "    * Combine all categorical features `subject`, `phase` and `state` with each other and get the features."
   ]
  },
  {
   "cell_type": "code",
   "execution_count": 39,
   "metadata": {
    "id": "biSGKnTv8TGN"
   },
   "outputs": [],
   "source": [
    "def normalize(data):\n",
    "    scaler = MinMaxScaler()\n",
    "    return scaler.fit_transform(data.values),scaler\n",
    "\n",
    "def apply_kmean(data,features,n_clusters):\n",
    "    data_features,scaler = normalize(data[features])\n",
    "    kmeans = KMeans(n_clusters=n_clusters, max_iter=1000).fit(data_features)\n",
    "    return kmeans.labels_,kmeans,scaler\n",
    "\n",
    "def create_feat(train,test):\n",
    "    \n",
    "    # Extract the column which has only one value\n",
    "    one_value_col=[]\n",
    "    for col in train.columns:\n",
    "        if train[col].nunique() ==1:\n",
    "            #print(train_data[col].nunique())\n",
    "            one_value_col.append(col)\n",
    "\n",
    "    # drop all columns which has only one value\n",
    "    train = train.drop(columns=one_value_col,axis=1,errors='ignore')\n",
    "    test = test.drop(columns=one_value_col,axis=1,errors='ignore')\n",
    "\n",
    "    # drop columns which have bad distribution \n",
    "    drop_col = ['x2','x3','x40','x47','x101','x102','x118',\n",
    "                'y2','y3','y40','y46','y47','y102','y117','y118',\n",
    "                'z2','z3','z46','z47','z102','z117','z118','z119']+\\\n",
    "                ['x45','x46','x115','x116','x117',\n",
    "                 'y41','y45','y101','y116','z41','z101']\n",
    "    \n",
    "    \n",
    "    train = train.drop(columns=drop_col,axis=1,errors='ignore')\n",
    "    test = test.drop(columns=drop_col,axis=1,errors='ignore')\n",
    "    \n",
    "    cat_col=[]\n",
    "    for col in train.columns:\n",
    "        if train[col].nunique() <= 11  and \\\n",
    "            col not in one_value_col and \\\n",
    "            col != 'output' and \\\n",
    "            col not in drop_col :\n",
    "            #print(train_data[col].nunique())\n",
    "            cat_col.append(col)\n",
    "\n",
    "    numeric_feat = list(set(train.columns)-set(cat_col+['output']))\n",
    "    \n",
    "    train['all_clusters'],kmeans,scaler = apply_kmean(train,numeric_feat,n_clusters=5)\n",
    "    test['all_clusters'] = kmeans.predict(scaler.transform(test[numeric_feat]))\n",
    "    \n",
    "    x_features = [feat for feat in numeric_feat if 'x' in feat]\n",
    "    y_features = [feat for feat in numeric_feat if 'y' in feat]\n",
    "    z_features = [feat for feat in numeric_feat if 'z' in feat]\n",
    "    \n",
    "    # Define cluster for x,y and z features\n",
    "    print('cluster')\n",
    "    train['x_clusters'],x_kmeans,x_scaler = apply_kmean(train,x_features,n_clusters=5)\n",
    "    train['y_clusters'],y_kmeans,y_scaler = apply_kmean(train,y_features,n_clusters=5)\n",
    "    train['z_clusters'],z_kmeans,z_scaler = apply_kmean(train,z_features,n_clusters=5)\n",
    "    \n",
    "    test['x_clusters'] = x_kmeans.predict(x_scaler.transform(test[x_features]))\n",
    "    test['y_clusters'] = y_kmeans.predict(y_scaler.transform(test[y_features]))\n",
    "    test['z_clusters'] = z_kmeans.predict(z_scaler.transform(test[z_features]))\n",
    "    \n",
    "    cluster_cols = ['x_clusters','y_clusters','z_clusters','all_clusters']\n",
    "                  #'x_y_clusters','x_z_clusters','z_y_clusters',\n",
    "                  #'x_y_z_clusters']\n",
    "    train = pd.get_dummies(train,columns=cluster_cols)\n",
    "    test = pd.get_dummies(test,columns=cluster_cols)\n",
    "    \n",
    "    \n",
    "    #PCA\n",
    "    print('pca')\n",
    "    \n",
    "    pca_scaler = StandardScaler()\n",
    "    \n",
    "    pca_scaler_x = StandardScaler()\n",
    "    pca_scaler_y = StandardScaler()\n",
    "    pca_scaler_z = StandardScaler()\n",
    "    \n",
    "    a = pca_scaler.fit_transform(train[numeric_feat])\n",
    "    \n",
    "    x = pca_scaler_x.fit_transform(train[x_features])\n",
    "    y = pca_scaler_y.fit_transform(train[y_features])\n",
    "    z = pca_scaler_z.fit_transform(train[z_features])\n",
    "    \n",
    "    a_t = pca_scaler.fit_transform(test[numeric_feat])\n",
    "    \n",
    "    x_t = pca_scaler_x.transform(test[x_features])\n",
    "    y_t = pca_scaler_y.transform(test[y_features])\n",
    "    z_t = pca_scaler_z.transform(test[z_features])\n",
    "    \n",
    "    a_pca = PCA(n_components=3).fit(a)\n",
    "    \n",
    "    x_pca = PCA(n_components=3).fit(x)\n",
    "    y_pca = PCA(n_components=3).fit(y)\n",
    "    z_pca = PCA(n_components=3).fit(z)\n",
    "    \n",
    "    train[['pca1','pca2','pca3']] = a_pca.transform(a)\n",
    "    test[['pca1','pca2','pca3']] = a_pca.transform(a_t)\n",
    "    \n",
    "    train[['x_pca1','x_pca2','x_pca3']] = x_pca.transform(x)\n",
    "    test[['x_pca1','x_pca2','x_pca3']] = x_pca.transform(x_t)\n",
    "    \n",
    "    train[['y_pca1','y_pca2','y_pca3']] = y_pca.transform(y)\n",
    "    test[['y_pca1','y_pca2','y_pca3']] = y_pca.transform(y_t)\n",
    "    \n",
    "    train[['z_pca1','z_pca2','z_pca3']] = z_pca.transform(z)\n",
    "    test[['z_pca1','z_pca2','z_pca3']] = z_pca.transform(z_t)\n",
    "    \n",
    "\n",
    "    # combine features\n",
    "    print('combine cat feat')\n",
    "    train['subject_phase'] = train['subject']+'_'+train['phase'].astype('str')\n",
    "    train['subject_state'] = train['subject']+'_'+train['state']\n",
    "    train['state_phase'] = train['state']+'_'+train['phase'].astype('str')\n",
    "    train['subject_phase_state'] = train['subject']+'_'+train['phase'].astype('str')+'_'+train['state']\n",
    "    \n",
    "    test['subject_phase'] = test['subject']+'_'+test['phase'].astype('str')\n",
    "    test['subject_state'] = test['subject']+'_'+test['state']\n",
    "    test['state_phase'] = test['state']+'_'+test['phase'].astype('str')\n",
    "    test['subject_phase_state'] = test['subject']+'_'+test['phase'].astype('str')+'_'+test['state']\n",
    "    \n",
    "    #one hot col\n",
    "    new_cols = ['subject_phase','subject_state','state_phase','subject_phase_state']\n",
    "    \n",
    "    train = pd.get_dummies(train,columns=new_cols)\n",
    "    test = pd.get_dummies(test,columns=new_cols)\n",
    "    \n",
    "    # Apply one hot encoding \n",
    "    train = pd.get_dummies(train,columns=cat_col)\n",
    "    test = pd.get_dummies(test,columns=cat_col)\n",
    "\n",
    "    test['output']=-99\n",
    "    \n",
    "    test[list(set(train.columns)-set(test.columns))]=0\n",
    "    \n",
    "    return train,test"
   ]
  },
  {
   "cell_type": "code",
   "execution_count": 40,
   "metadata": {
    "colab": {
     "base_uri": "https://localhost:8080/"
    },
    "id": "SjjL2iio8Tbj",
    "outputId": "dd8be421-8f2e-4def-d93b-05d9bc1965b9"
   },
   "outputs": [
    {
     "name": "stdout",
     "output_type": "stream",
     "text": [
      "cluster\n",
      "pca\n",
      "combine cat feat\n"
     ]
    }
   ],
   "source": [
    "train,test = create_feat(train_data,test_data)"
   ]
  },
  {
   "cell_type": "code",
   "execution_count": 41,
   "metadata": {
    "colab": {
     "base_uri": "https://localhost:8080/"
    },
    "id": "fZNh0lDBwmT0",
    "outputId": "e2181bd3-8477-4c3f-87bd-98508d196294"
   },
   "outputs": [
    {
     "name": "stdout",
     "output_type": "stream",
     "text": [
      "(3667, 869) (917, 869) (3667,) (917,)\n"
     ]
    }
   ],
   "source": [
    "X = train.drop(columns=['output'])\n",
    "y = train['output']\n",
    "X_train,X_val,y_train,y_val = train_test_split(X,y,test_size=0.2,stratify=y)\n",
    "\n",
    "print(X_train.shape,X_val.shape,y_train.shape,y_val.shape)"
   ]
  },
  {
   "cell_type": "markdown",
   "metadata": {
    "id": "zILp9jwYxDtV"
   },
   "source": [
    "### Test a variety of classifiers\n",
    "\n",
    "We wanted to see which performs best and confirm XGBoost was the best model for this feature set"
   ]
  },
  {
   "cell_type": "code",
   "execution_count": 83,
   "metadata": {
    "colab": {
     "base_uri": "https://localhost:8080/"
    },
    "id": "yf4WHrh2wq8Q",
    "outputId": "8dd4dd70-8df6-44e0-bb66-0276b53455c9"
   },
   "outputs": [
    {
     "name": "stdout",
     "output_type": "stream",
     "text": [
      "train SVC model...\n",
      "train KN model...\n",
      "train DT model...\n",
      "train LR model...\n",
      "train RF model...\n",
      "train AdaBoost model...\n",
      "train BgC model...\n",
      "train ETC model...\n",
      "train XGB model...\n"
     ]
    }
   ],
   "source": [
    "svc = SVC(kernel='rbf', gamma=0.1,C=10,probability=True)\n",
    "knc = KNeighborsClassifier(n_neighbors=49)\n",
    "mnb = MultinomialNB(alpha=0.2)\n",
    "dtc = DecisionTreeClassifier(min_samples_split=7, random_state=111)\n",
    "lrc = LogisticRegression(solver='liblinear', penalty='l2')\n",
    "rfc = RandomForestClassifier(n_estimators=31, random_state=111)\n",
    "abc = AdaBoostClassifier(n_estimators=62, random_state=111)\n",
    "bc = BaggingClassifier(n_estimators=9, random_state=111)\n",
    "etc = ExtraTreesClassifier(n_estimators=9, random_state=111)\n",
    "xg = xgb(n_estimators=200, max_depth=8,\n",
    "                             max_features=10, n_jobs=32, bootstrap=True,\n",
    "                             oob_score =True,\n",
    "                             verbose=6,random_state = 111)\n",
    "\n",
    "clfs = {\"SVC\" : svc ,'KN' : knc, 'DT': dtc, 'LR': lrc, 'RF': rfc, 'AdaBoost': abc, 'BgC': bc, 'ETC': etc,'XGB':xg}\n",
    "#clfs = {'SVC':svc}\n",
    "#clfs = {'KN' : knc, 'NB': mnb, 'DT': dtc, 'LR': lrc, 'RF': rfc, 'AdaBoost': abc, 'BgC': bc, 'ETC': etc}\n",
    "\n",
    "def train_classifier(clf, feature_train, labels_train):    \n",
    "    clf.fit(feature_train, labels_train)\n",
    "    \n",
    "def predict_labels(clf, features):\n",
    "    return (clf.predict(features))\n",
    "\n",
    "def score(y_test,pred,average):\n",
    "    f_score = f1_score(y_test,pred,average=average)\n",
    "    precision=precision_score(y_test,pred,average=average)\n",
    "    recall = recall_score(y_test,pred,average=average)\n",
    "    return precision,recall,f_score\n",
    "\n",
    "pred_scores = []\n",
    "for k,v in clfs.items():\n",
    "    print(f'train {k} model...')\n",
    "    train_classifier(v, X_train, y_train)\n",
    "    pred = predict_labels(v,X_val)\n",
    "    precision,recall,fscore =score(y_val,pred,average ='binary')\n",
    "    res = {'Model':k,'Score':accuracy_score(y_val,pred),'Precision':precision,'Recall':recall,'F_Score':fscore}\n",
    "    #pred_scores.append((k, [accuracy_score(y_test,pred)],[precision],[recall],[fscore]))\n",
    "    pred_scores.append(res)\n",
    "    \n",
    "#df3 = pd.DataFrame.from_items(pred_scores,orient='index', columns=['Score','Precision,Recall,F_Score'])\n",
    "df3 = pd.DataFrame(pred_scores)"
   ]
  },
  {
   "cell_type": "code",
   "execution_count": 84,
   "metadata": {
    "colab": {
     "base_uri": "https://localhost:8080/",
     "height": 322
    },
    "id": "ET-KkRakwrYH",
    "outputId": "40659b54-66a1-408e-e69e-dbbc3a45cef8"
   },
   "outputs": [
    {
     "data": {
      "text/html": [
       "<div>\n",
       "<style scoped>\n",
       "    .dataframe tbody tr th:only-of-type {\n",
       "        vertical-align: middle;\n",
       "    }\n",
       "\n",
       "    .dataframe tbody tr th {\n",
       "        vertical-align: top;\n",
       "    }\n",
       "\n",
       "    .dataframe thead th {\n",
       "        text-align: right;\n",
       "    }\n",
       "</style>\n",
       "<table border=\"1\" class=\"dataframe\">\n",
       "  <thead>\n",
       "    <tr style=\"text-align: right;\">\n",
       "      <th></th>\n",
       "      <th>Model</th>\n",
       "      <th>Score</th>\n",
       "      <th>Precision</th>\n",
       "      <th>Recall</th>\n",
       "      <th>F_Score</th>\n",
       "    </tr>\n",
       "  </thead>\n",
       "  <tbody>\n",
       "    <tr>\n",
       "      <th>0</th>\n",
       "      <td>SVC</td>\n",
       "      <td>0.845147</td>\n",
       "      <td>0.845147</td>\n",
       "      <td>1.000000</td>\n",
       "      <td>0.916076</td>\n",
       "    </tr>\n",
       "    <tr>\n",
       "      <th>1</th>\n",
       "      <td>KN</td>\n",
       "      <td>0.845147</td>\n",
       "      <td>0.846659</td>\n",
       "      <td>0.997419</td>\n",
       "      <td>0.915877</td>\n",
       "    </tr>\n",
       "    <tr>\n",
       "      <th>2</th>\n",
       "      <td>DT</td>\n",
       "      <td>0.846238</td>\n",
       "      <td>0.901266</td>\n",
       "      <td>0.918710</td>\n",
       "      <td>0.909904</td>\n",
       "    </tr>\n",
       "    <tr>\n",
       "      <th>3</th>\n",
       "      <td>LR</td>\n",
       "      <td>0.850600</td>\n",
       "      <td>0.877962</td>\n",
       "      <td>0.956129</td>\n",
       "      <td>0.915380</td>\n",
       "    </tr>\n",
       "    <tr>\n",
       "      <th>4</th>\n",
       "      <td>RF</td>\n",
       "      <td>0.880044</td>\n",
       "      <td>0.881745</td>\n",
       "      <td>0.990968</td>\n",
       "      <td>0.933171</td>\n",
       "    </tr>\n",
       "    <tr>\n",
       "      <th>5</th>\n",
       "      <td>AdaBoost</td>\n",
       "      <td>0.850600</td>\n",
       "      <td>0.879762</td>\n",
       "      <td>0.953548</td>\n",
       "      <td>0.915170</td>\n",
       "    </tr>\n",
       "    <tr>\n",
       "      <th>6</th>\n",
       "      <td>BgC</td>\n",
       "      <td>0.878953</td>\n",
       "      <td>0.904878</td>\n",
       "      <td>0.957419</td>\n",
       "      <td>0.930408</td>\n",
       "    </tr>\n",
       "    <tr>\n",
       "      <th>7</th>\n",
       "      <td>ETC</td>\n",
       "      <td>0.884406</td>\n",
       "      <td>0.904474</td>\n",
       "      <td>0.965161</td>\n",
       "      <td>0.933833</td>\n",
       "    </tr>\n",
       "    <tr>\n",
       "      <th>8</th>\n",
       "      <td>XGB</td>\n",
       "      <td>0.877863</td>\n",
       "      <td>0.894174</td>\n",
       "      <td>0.970323</td>\n",
       "      <td>0.930693</td>\n",
       "    </tr>\n",
       "  </tbody>\n",
       "</table>\n",
       "</div>"
      ],
      "text/plain": [
       "      Model     Score  Precision    Recall   F_Score\n",
       "0       SVC  0.845147   0.845147  1.000000  0.916076\n",
       "1        KN  0.845147   0.846659  0.997419  0.915877\n",
       "2        DT  0.846238   0.901266  0.918710  0.909904\n",
       "3        LR  0.850600   0.877962  0.956129  0.915380\n",
       "4        RF  0.880044   0.881745  0.990968  0.933171\n",
       "5  AdaBoost  0.850600   0.879762  0.953548  0.915170\n",
       "6       BgC  0.878953   0.904878  0.957419  0.930408\n",
       "7       ETC  0.884406   0.904474  0.965161  0.933833\n",
       "8       XGB  0.877863   0.894174  0.970323  0.930693"
      ]
     },
     "execution_count": 84,
     "metadata": {},
     "output_type": "execute_result"
    }
   ],
   "source": [
    "df3"
   ]
  },
  {
   "cell_type": "markdown",
   "metadata": {
    "id": "BH5Uez0xxdW5"
   },
   "source": [
    "### Tune XGBoost"
   ]
  },
  {
   "cell_type": "code",
   "execution_count": null,
   "metadata": {
    "colab": {
     "base_uri": "https://localhost:8080/"
    },
    "id": "CHGJk7gWwrwf",
    "outputId": "3f86014e-6b98-492e-b0fb-3176605e2596"
   },
   "outputs": [
    {
     "name": "stdout",
     "output_type": "stream",
     "text": [
      "Fitting 3 folds for each of 9 candidates, totalling 27 fits\n",
      "[Parallel(n_jobs=-1)]: Using backend LokyBackend with 4 concurrent workers.\n",
      "[Parallel(n_jobs=-1)]: Done   1 tasks      | elapsed:    9.4s\n",
      "[Parallel(n_jobs=-1)]: Done   2 tasks      | elapsed:    9.5s\n",
      "[Parallel(n_jobs=-1)]: Done   3 tasks      | elapsed:    9.5s\n",
      "[Parallel(n_jobs=-1)]: Done   4 tasks      | elapsed:   13.7s\n",
      "[Parallel(n_jobs=-1)]: Done   5 tasks      | elapsed:   21.3s\n",
      "[Parallel(n_jobs=-1)]: Done   6 tasks      | elapsed:   21.4s\n",
      "[Parallel(n_jobs=-1)]: Done   7 tasks      | elapsed:   25.5s\n",
      "[Parallel(n_jobs=-1)]: Done   8 tasks      | elapsed:   29.6s\n",
      "[Parallel(n_jobs=-1)]: Done   9 tasks      | elapsed:   34.7s\n",
      "[Parallel(n_jobs=-1)]: Done  10 tasks      | elapsed:   37.2s\n",
      "[Parallel(n_jobs=-1)]: Done  11 tasks      | elapsed:   38.2s\n",
      "[Parallel(n_jobs=-1)]: Done  12 tasks      | elapsed:   42.5s\n",
      "[Parallel(n_jobs=-1)]: Done  13 tasks      | elapsed:   53.9s\n",
      "[Parallel(n_jobs=-1)]: Done  14 tasks      | elapsed:   55.9s\n",
      "[Parallel(n_jobs=-1)]: Done  15 tasks      | elapsed:   56.9s\n",
      "[Parallel(n_jobs=-1)]: Done  16 tasks      | elapsed:  1.1min\n",
      "[Parallel(n_jobs=-1)]: Done  17 tasks      | elapsed:  1.2min\n",
      "[Parallel(n_jobs=-1)]: Done  18 tasks      | elapsed:  1.3min\n",
      "[Parallel(n_jobs=-1)]: Done  19 tasks      | elapsed:  1.3min\n",
      "[Parallel(n_jobs=-1)]: Done  20 tasks      | elapsed:  1.3min\n",
      "[Parallel(n_jobs=-1)]: Done  21 out of  27 | elapsed:  1.5min remaining:   24.9s\n",
      "[Parallel(n_jobs=-1)]: Done  22 out of  27 | elapsed:  1.6min remaining:   22.3s\n",
      "[Parallel(n_jobs=-1)]: Done  23 out of  27 | elapsed:  1.7min remaining:   17.4s\n",
      "[Parallel(n_jobs=-1)]: Done  24 out of  27 | elapsed:  1.7min remaining:   12.7s\n",
      "[Parallel(n_jobs=-1)]: Done  25 out of  27 | elapsed:  1.8min remaining:    8.7s\n"
     ]
    }
   ],
   "source": [
    "def xgb_param_selection(X, y, nfolds=3):\n",
    "    n_estimators = [70, 110, 150]\n",
    "    max_depth=[8, 15, 25]\n",
    "    scale_pos_weight = [0.33] \n",
    "    learning_rate = [0.1]\n",
    "    sub_sample = [0.5, 0.7, 0.8]\n",
    "    min_child_weight = [0.5, 1, 3]\n",
    "    colsample_bytree = [0.5, 0.6, 0.7]\n",
    "    param_grid = {'n_estimators': n_estimators, \n",
    "                  'max_depth' : max_depth,\n",
    "                  'scale_pos_weight':scale_pos_weight, \n",
    "                  'learning_rate': learning_rate,\n",
    "                  'colsample_bytree':colsample_bytree,\n",
    "                  'sub_sample':sub_sample,\n",
    "                  'min_child_weight': min_child_weight}\n",
    "    param_grid = {'n_estimators': n_estimators, 'max_depth' : max_depth}\n",
    "    grid_search = GridSearchCV(xgb(), param_grid, cv=nfolds,n_jobs=-1,verbose=2000)\n",
    "    grid_search.fit(X, y,sample_weight=sample_weight)\n",
    "    grid_search.best_params_\n",
    "    return grid_search,grid_search.best_params_\n",
    "\n",
    "xgb_model,xgb_best_prama = xgb_param_selection(X_train,y_train)\n",
    "print('Best param of XGB : ',xgb_best_prama)"
   ]
  },
  {
   "cell_type": "code",
   "execution_count": 56,
   "metadata": {
    "colab": {
     "base_uri": "https://localhost:8080/"
    },
    "id": "ipMioZCywsHf",
    "outputId": "e726efda-a668-434b-c410-e9e01bdf1c5b"
   },
   "outputs": [
    {
     "name": "stdout",
     "output_type": "stream",
     "text": [
      "Train accuracy 0.9072811562585219\n",
      "Validation accuracy 0.861504907306434\n"
     ]
    }
   ],
   "source": [
    "def predict_labels(clf, features):\n",
    "    return (clf.predict(features))\n",
    "\n",
    "def score(y_test,pred,average):\n",
    "    f_score = f1_score(y_test,pred,average=average)\n",
    "    precision=precision_score(y_test,pred,average=average)\n",
    "    recall = recall_score(y_test,pred,average=average)\n",
    "    return precision,recall,f_score\n",
    "\n",
    "xgb_model = xgb(eta=0.1, max_depth=15, n_estimators=100) \n",
    "\n",
    "preds = xgb_model.fit(X_train, y_train).predict(X_val) \n",
    "print('Train accuracy %s' % model.score(X_train, y_train)) \n",
    "print('Validation accuracy %s' % accuracy_score(preds, y_val))\n",
    "pred = predict_labels(xgb_model,X_val)\n",
    "precision,recall,fscore =score(y_val,pred,average ='binary')\n",
    "\n",
    "# Best param of XGB :  {'max_depth': 8, 'n_estimators': 100} & balanced\n",
    "# {'Model': 'XGB', 'Score': 0.8673647469458988, 'Precision': 0.8976608187134503, \n",
    "#  'Recall': 0.9514462809917356, 'F_Score': 0.9237713139418254}\n",
    "\n",
    "# Best param of XGB :  {'max_depth': 15, 'n_estimators': 100} & balanced\n",
    "# {'Model': 'XGB', 'Score': 0.8760907504363001, 'Precision': 0.8986486486486487, \n",
    "#  'Recall': 0.9617768595041323, 'F_Score': 0.9291417165668664}"
   ]
  },
  {
   "cell_type": "code",
   "execution_count": 57,
   "metadata": {
    "colab": {
     "base_uri": "https://localhost:8080/"
    },
    "id": "Qr7gtDc9xo8T",
    "outputId": "f547b7dd-71ca-4669-d519-f8e45c6f224b"
   },
   "outputs": [
    {
     "name": "stdout",
     "output_type": "stream",
     "text": [
      "              precision    recall  f1-score   support\n",
      "\n",
      "           0       0.61      0.30      0.40       142\n",
      "           1       0.88      0.96      0.92       775\n",
      "\n",
      "    accuracy                           0.86       917\n",
      "   macro avg       0.74      0.63      0.66       917\n",
      "weighted avg       0.84      0.86      0.84       917\n",
      "\n"
     ]
    }
   ],
   "source": [
    "print(classification_report(y_val,pred))"
   ]
  },
  {
   "cell_type": "code",
   "execution_count": 58,
   "metadata": {
    "colab": {
     "base_uri": "https://localhost:8080/"
    },
    "id": "gz9LMmcBxpZU",
    "outputId": "c4ab8ecc-b6e5-48a1-8224-db22afd81b42"
   },
   "outputs": [
    {
     "name": "stdout",
     "output_type": "stream",
     "text": [
      "Optimal Threshold :  [0.9683676958084106]\n",
      "[[112  30]\n",
      " [164 611]]\n",
      "Accuracy :  0.7884405670665212\n",
      "Sensitivity :  0.7887323943661971\n",
      "Specificity :  0.7883870967741935\n",
      "AUC :  0.8585960926851431\n"
     ]
    }
   ],
   "source": [
    "### Find optimal thresold\n",
    "def Find_Optimal_Cutoff(target, predicted):\n",
    "    fpr, tpr, threshold = roc_curve(target, predicted)\n",
    "    i = np.arange(len(tpr)) \n",
    "    roc = pd.DataFrame({'tf' : pd.Series(tpr-(1-fpr), index=i), 'threshold' : pd.Series(threshold, index=i)})\n",
    "    roc_t = roc.iloc[(roc.tf-0).abs().argsort()[:1]]\n",
    "    return list(roc_t['threshold'])\n",
    "\n",
    "y_prob = xgb_model.predict_proba(X_val)[:, 1]\n",
    "actual = pd.DataFrame(y_val)\n",
    "actual.columns = ['actual']\n",
    "pred = pd.DataFrame(y_prob)\n",
    "pred.columns = ['pred']\n",
    "bigdata = pd.concat([pred.reset_index(drop = True), actual.reset_index(drop = True)], axis=1, ignore_index=True)\n",
    "bigdata.columns = ['pred', 'actual']\n",
    "\n",
    "fpr, tpr, thresholds = metrics.roc_curve(bigdata['actual'].astype(int), bigdata['pred'])\n",
    "threshold = Find_Optimal_Cutoff(bigdata['actual'].astype(int), bigdata['pred'])\n",
    "print('Optimal Threshold : ',threshold)\n",
    "\n",
    "bigdata['temp_cut_off'] = np.where(bigdata['pred'] >threshold[0], 1, 0)\n",
    "\n",
    "cm1 = confusion_matrix(bigdata['actual'].astype(int), bigdata['temp_cut_off'])\n",
    "print(cm1)\n",
    "\n",
    "total1=sum(sum(cm1))\n",
    "#####from confusion matrix calculate accuracy\n",
    "accuracy1=(cm1[0,0]+cm1[1,1])/total1\n",
    "print ('Accuracy : ', accuracy1)\n",
    "\n",
    "sensitivity1 = cm1[0,0]/(cm1[0,0]+cm1[0,1])\n",
    "print('Sensitivity : ', sensitivity1 )\n",
    "\n",
    "specificity1 = cm1[1,1]/(cm1[1,0]+cm1[1,1])\n",
    "print('Specificity : ', specificity1)\n",
    "\n",
    "roc_auc = auc(fpr, tpr)\n",
    "print('AUC : ', roc_auc)\n",
    "\n",
    "# # Best param of XGB :  {'max_depth': 8, 'n_estimators': 100} & balanced\n",
    "# Optimal Threshold :  [0.8852977752685547]\n",
    "# [[135  43]\n",
    "#  [237 731]]\n",
    "# Accuracy :  0.7556719022687609\n",
    "# Sensitivity :  0.7584269662921348\n",
    "# Specificity :  0.7551652892561983\n",
    "# AUC :  0.8464980499582134\n",
    "\n",
    "#Best param of XGB :  {'max_depth': 15, 'n_estimators': 100} & balanced\n",
    "# Optimal Threshold :  [0.9190688729286194]\n",
    "# [[139  39]\n",
    "#  [215 753]]\n",
    "# Accuracy :  0.7783595113438045\n",
    "# Sensitivity :  0.7808988764044944\n",
    "# Specificity :  0.7778925619834711\n",
    "# AUC :  0.864379236697929"
   ]
  },
  {
   "cell_type": "code",
   "execution_count": 59,
   "metadata": {
    "colab": {
     "base_uri": "https://localhost:8080/"
    },
    "id": "Qcj0iAaIxs6P",
    "outputId": "1d2d4ffc-cc5c-42c4-9a9c-528128ac08f8"
   },
   "outputs": [
    {
     "data": {
      "text/plain": [
       "1    1374\n",
       "0     358\n",
       "Name: output, dtype: int64"
      ]
     },
     "execution_count": 59,
     "metadata": {},
     "output_type": "execute_result"
    }
   ],
   "source": [
    "submission_df = pd.DataFrame()\n",
    "y_prob = xgb_model.predict_proba(test[X.columns])[:, 1]\n",
    "\n",
    "submission_df['id'] = range(0,len(test))\n",
    "submission_df['output'] = np.where(y_prob>threshold[0],1,0)\n",
    "\n",
    "submission_df['output'].value_counts()\n",
    "#submission_df.to_csv('ml_result/xg_submission_full_data_lb_63_(weight=balanced).csv',index=False)"
   ]
  },
  {
   "cell_type": "markdown",
   "metadata": {
    "id": "5ln3VTl51Zke"
   },
   "source": [
    "### Kaggle LB score 0.74338"
   ]
  }
 ],
 "metadata": {
  "accelerator": "GPU",
  "colab": {
   "collapsed_sections": [],
   "machine_shape": "hm",
   "name": "csci-e-82-hw3_kagglecomp_v3.ipynb",
   "provenance": []
  },
  "kernelspec": {
   "display_name": "Python 3",
   "language": "python",
   "name": "python3"
  },
  "language_info": {
   "codemirror_mode": {
    "name": "ipython",
    "version": 3
   },
   "file_extension": ".py",
   "mimetype": "text/x-python",
   "name": "python",
   "nbconvert_exporter": "python",
   "pygments_lexer": "ipython3",
   "version": "3.8.8"
  }
 },
 "nbformat": 4,
 "nbformat_minor": 4
}
